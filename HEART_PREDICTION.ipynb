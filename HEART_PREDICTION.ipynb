{
 "cells": [
  {
   "cell_type": "code",
   "execution_count": 365,
   "metadata": {},
   "outputs": [],
   "source": [
    "import numpy as np \n",
    "import matplotlib.pyplot as plt\n",
    "import pandas as pd\n",
    "import plotly.express as px\n",
    "import seaborn as sns"
   ]
  },
  {
   "cell_type": "code",
   "execution_count": 366,
   "metadata": {},
   "outputs": [
    {
     "data": {
      "text/html": [
       "<div>\n",
       "<style scoped>\n",
       "    .dataframe tbody tr th:only-of-type {\n",
       "        vertical-align: middle;\n",
       "    }\n",
       "\n",
       "    .dataframe tbody tr th {\n",
       "        vertical-align: top;\n",
       "    }\n",
       "\n",
       "    .dataframe thead th {\n",
       "        text-align: right;\n",
       "    }\n",
       "</style>\n",
       "<table border=\"1\" class=\"dataframe\">\n",
       "  <thead>\n",
       "    <tr style=\"text-align: right;\">\n",
       "      <th></th>\n",
       "      <th>Age</th>\n",
       "      <th>Sex</th>\n",
       "      <th>ChestPainType</th>\n",
       "      <th>RestingBP</th>\n",
       "      <th>Cholesterol</th>\n",
       "      <th>FastingBS</th>\n",
       "      <th>RestingECG</th>\n",
       "      <th>MaxHR</th>\n",
       "      <th>ExerciseAngina</th>\n",
       "      <th>Oldpeak</th>\n",
       "      <th>ST_Slope</th>\n",
       "      <th>HeartDisease</th>\n",
       "    </tr>\n",
       "  </thead>\n",
       "  <tbody>\n",
       "    <tr>\n",
       "      <th>0</th>\n",
       "      <td>40</td>\n",
       "      <td>M</td>\n",
       "      <td>ATA</td>\n",
       "      <td>140</td>\n",
       "      <td>289</td>\n",
       "      <td>0</td>\n",
       "      <td>Normal</td>\n",
       "      <td>172</td>\n",
       "      <td>N</td>\n",
       "      <td>0.00</td>\n",
       "      <td>Up</td>\n",
       "      <td>0</td>\n",
       "    </tr>\n",
       "    <tr>\n",
       "      <th>1</th>\n",
       "      <td>49</td>\n",
       "      <td>F</td>\n",
       "      <td>NAP</td>\n",
       "      <td>160</td>\n",
       "      <td>180</td>\n",
       "      <td>0</td>\n",
       "      <td>Normal</td>\n",
       "      <td>156</td>\n",
       "      <td>N</td>\n",
       "      <td>1.00</td>\n",
       "      <td>Flat</td>\n",
       "      <td>1</td>\n",
       "    </tr>\n",
       "    <tr>\n",
       "      <th>2</th>\n",
       "      <td>37</td>\n",
       "      <td>M</td>\n",
       "      <td>ATA</td>\n",
       "      <td>130</td>\n",
       "      <td>283</td>\n",
       "      <td>0</td>\n",
       "      <td>ST</td>\n",
       "      <td>98</td>\n",
       "      <td>N</td>\n",
       "      <td>0.00</td>\n",
       "      <td>Up</td>\n",
       "      <td>0</td>\n",
       "    </tr>\n",
       "    <tr>\n",
       "      <th>3</th>\n",
       "      <td>48</td>\n",
       "      <td>F</td>\n",
       "      <td>ASY</td>\n",
       "      <td>138</td>\n",
       "      <td>214</td>\n",
       "      <td>0</td>\n",
       "      <td>Normal</td>\n",
       "      <td>108</td>\n",
       "      <td>Y</td>\n",
       "      <td>1.50</td>\n",
       "      <td>Flat</td>\n",
       "      <td>1</td>\n",
       "    </tr>\n",
       "    <tr>\n",
       "      <th>4</th>\n",
       "      <td>54</td>\n",
       "      <td>M</td>\n",
       "      <td>NAP</td>\n",
       "      <td>150</td>\n",
       "      <td>195</td>\n",
       "      <td>0</td>\n",
       "      <td>Normal</td>\n",
       "      <td>122</td>\n",
       "      <td>N</td>\n",
       "      <td>0.00</td>\n",
       "      <td>Up</td>\n",
       "      <td>0</td>\n",
       "    </tr>\n",
       "  </tbody>\n",
       "</table>\n",
       "</div>"
      ],
      "text/plain": [
       "   Age Sex ChestPainType  RestingBP  Cholesterol  FastingBS RestingECG  MaxHR  \\\n",
       "0   40   M           ATA        140          289          0     Normal    172   \n",
       "1   49   F           NAP        160          180          0     Normal    156   \n",
       "2   37   M           ATA        130          283          0         ST     98   \n",
       "3   48   F           ASY        138          214          0     Normal    108   \n",
       "4   54   M           NAP        150          195          0     Normal    122   \n",
       "\n",
       "  ExerciseAngina  Oldpeak ST_Slope  HeartDisease  \n",
       "0              N     0.00       Up             0  \n",
       "1              N     1.00     Flat             1  \n",
       "2              N     0.00       Up             0  \n",
       "3              Y     1.50     Flat             1  \n",
       "4              N     0.00       Up             0  "
      ]
     },
     "execution_count": 366,
     "metadata": {},
     "output_type": "execute_result"
    }
   ],
   "source": [
    "df=pd.read_csv(\"heart.csv\")\n",
    "df.head()"
   ]
  },
  {
   "cell_type": "code",
   "execution_count": 367,
   "metadata": {},
   "outputs": [],
   "source": [
    "# This dataset was created by combining different datasets already available\n",
    "# independently but not combined before. In this dataset, 5 heart datasets\n",
    "# are combined over 11 common features which makes it the largest heart\n",
    "# disease dataset available so far for research purposes. The five datasets\n",
    "# used for its curation are:\n",
    "\n",
    "# Cleveland: 303 observations\n",
    "# Hungarian: 294 observations\n",
    "# Switzerland: 123 observations\n",
    "# Long Beach VA: 200 observations\n",
    "# Stalog (Heart) Data Set: 270 observations\n",
    "# Total: 1190 observations\n",
    "# Duplicated: 272 observations\n",
    "# Final dataset: 918 observations\n",
    "\n",
    "\n",
    "#Attribute Information\n",
    "\n",
    "# Age: age of the patient [years]\n",
    "# Sex: sex of the patient [M: Male, F: Female]\n",
    "# ChestPainType: chest pain type [TA: Typical Angina, ATA: Atypical Angina, NAP: Non-Anginal Pain, ASY: Asymptomatic]\n",
    "# RestingBP: resting blood pressure [mm Hg]\n",
    "# Cholesterol: serum cholesterol [mm/dl]\n",
    "# FastingBS: fasting blood sugar [1: if FastingBS > 120 mg/dl, 0: otherwise]\n",
    "# RestingECG: resting electrocardiogram results [Normal: Normal, ST: having ST-T wave abnormality (T wave inversions and/or ST elevation or depression of > 0.05 mV), LVH: showing probable or definite left ventricular hypertrophy by Estes' criteria]\n",
    "# MaxHR: maximum heart rate achieved [Numeric value between 60 and 202]\n",
    "# ExerciseAngina: exercise-induced angina [Y: Yes, N: No]\n",
    "# Oldpeak: oldpeak = ST [Numeric value measured in depression]\n",
    "# ST_Slope: the slope of the peak exercise ST segment [Up: upsloping, Flat: flat, Down: downsloping]\n",
    "# HeartDisease: output class [1: heart disease, 0: Normal]"
   ]
  },
  {
   "cell_type": "code",
   "execution_count": 368,
   "metadata": {},
   "outputs": [
    {
     "name": "stdout",
     "output_type": "stream",
     "text": [
      "         Age  RestingBP  Cholesterol  FastingBS  MaxHR  Oldpeak\n",
      "count 918.00     918.00       918.00     918.00 918.00   918.00\n",
      "mean   53.51     132.40       198.80       0.23 136.81     0.89\n",
      "std     9.43      18.51       109.38       0.42  25.46     1.07\n",
      "min    28.00       0.00         0.00       0.00  60.00    -2.60\n",
      "25%    47.00     120.00       173.25       0.00 120.00     0.00\n",
      "50%    54.00     130.00       223.00       0.00 138.00     0.60\n",
      "75%    60.00     140.00       267.00       0.00 156.00     1.50\n",
      "max    77.00     200.00       603.00       1.00 202.00     6.20\n"
     ]
    }
   ],
   "source": [
    "num_col = df.select_dtypes(include=['number']).columns.tolist()\n",
    "\n",
    "# Remove the target column if present\n",
    "if \"HeartDisease\" in num_col:\n",
    "    num_col.remove(\"HeartDisease\")\n",
    "\n",
    "# Generate summary statistics for numeric columns\n",
    "numeric_summary = df[num_col].describe()\n",
    "\n",
    "print(numeric_summary)"
   ]
  },
  {
   "cell_type": "code",
   "execution_count": 369,
   "metadata": {},
   "outputs": [
    {
     "name": "stdout",
     "output_type": "stream",
     "text": [
      "Modified DataFrame:\n",
      "     Age Sex ChestPainType  RestingBP  Cholesterol  FastingBS RestingECG  \\\n",
      "0     40   M           ATA     140.00       289.00          0     Normal   \n",
      "1     49   F           NAP     160.00       180.00          0     Normal   \n",
      "2     37   M           ATA     130.00       283.00          0         ST   \n",
      "3     48   F           ASY     138.00       214.00          0     Normal   \n",
      "4     54   M           NAP     150.00       195.00          0     Normal   \n",
      "..   ...  ..           ...        ...          ...        ...        ...   \n",
      "913   45   M            TA     110.00       264.00          0     Normal   \n",
      "914   68   M           ASY     144.00       193.00          1     Normal   \n",
      "915   57   M           ASY     130.00       131.00          0     Normal   \n",
      "916   57   F           ATA     130.00       236.00          0        LVH   \n",
      "917   38   M           NAP     138.00       175.00          0     Normal   \n",
      "\n",
      "     MaxHR ExerciseAngina  Oldpeak ST_Slope  HeartDisease  \n",
      "0      172              N     0.00       Up             0  \n",
      "1      156              N     1.00     Flat             1  \n",
      "2       98              N     0.00       Up             0  \n",
      "3      108              Y     1.50     Flat             1  \n",
      "4      122              N     0.00       Up             0  \n",
      "..     ...            ...      ...      ...           ...  \n",
      "913    132              N     1.20     Flat             1  \n",
      "914    141              N     3.40     Flat             1  \n",
      "915    115              Y     1.20     Flat             1  \n",
      "916    174              N     0.00     Flat             1  \n",
      "917    173              N     0.00       Up             0  \n",
      "\n",
      "[918 rows x 12 columns]\n"
     ]
    }
   ],
   "source": [
    "\n",
    "columns_to_modify = ['Cholesterol', 'RestingBP']\n",
    "for column_name in columns_to_modify:\n",
    "    zero_indices = df.index[df[column_name] == 0]\n",
    "    non_zero_values = df[column_name][df[column_name] != 0]\n",
    "    avg = np.mean(non_zero_values)\n",
    "    df.loc[zero_indices, column_name] = avg\n",
    "\n",
    "print(\"Modified DataFrame:\")\n",
    "print(df)"
   ]
  },
  {
   "cell_type": "code",
   "execution_count": 370,
   "metadata": {},
   "outputs": [
    {
     "name": "stdout",
     "output_type": "stream",
     "text": [
      "         Age  RestingBP  Cholesterol  FastingBS  MaxHR  Oldpeak\n",
      "count 918.00     918.00       918.00     918.00 918.00   918.00\n",
      "mean   53.51     132.54       244.64       0.23 136.81     0.89\n",
      "std     9.43      17.99        53.32       0.42  25.46     1.07\n",
      "min    28.00      80.00        85.00       0.00  60.00    -2.60\n",
      "25%    47.00     120.00       214.00       0.00 120.00     0.00\n",
      "50%    54.00     130.00       244.64       0.00 138.00     0.60\n",
      "75%    60.00     140.00       267.00       0.00 156.00     1.50\n",
      "max    77.00     200.00       603.00       1.00 202.00     6.20\n"
     ]
    }
   ],
   "source": [
    "numeric_summary = df[num_col].describe()\n",
    "\n",
    "print(numeric_summary)"
   ]
  },
  {
   "cell_type": "code",
   "execution_count": 371,
   "metadata": {},
   "outputs": [
    {
     "data": {
      "image/png": "[encoded data removed]",
      "text/plain": [
       "<Figure size 1200x800 with 9 Axes>"
      ]
     },
     "metadata": {},
     "output_type": "display_data"
    }
   ],
   "source": [
    "df.hist(figsize=(12, 8))\n",
    "plt.suptitle(\"Histograms of Numeric Columns\", y=1.02)\n",
    "plt.tight_layout()\n",
    "plt.show()"
   ]
  },
  {
   "cell_type": "code",
   "execution_count": 372,
   "metadata": {},
   "outputs": [
    {
     "data": {
      "image/png": "[encoded data removed]",
      "text/plain": [
       "<Figure size 1000x2000 with 1 Axes>"
      ]
     },
     "metadata": {},
     "output_type": "display_data"
    }
   ],
   "source": [
    "numeric_cols = df.select_dtypes(include='number').drop(columns=['HeartDisease'])\n",
    "plt.figure(figsize=(10, 20))\n",
    "sns.boxplot(data=numeric_cols)\n",
    "plt.title(\"Boxplots of Numeric Columns\")\n",
    "plt.xticks(rotation=45)\n",
    "plt.tight_layout()\n",
    "plt.show()"
   ]
  },
  {
   "cell_type": "code",
   "execution_count": 373,
   "metadata": {},
   "outputs": [
    {
     "data": {
      "image/png": "[encoded data removed]",
      "text/plain": [
       "<Figure size 600x800 with 1 Axes>"
      ]
     },
     "metadata": {},
     "output_type": "display_data"
    }
   ],
   "source": [
    "plt.figure(figsize=(6, 8))\n",
    "sns.boxplot(data=df['Oldpeak'])\n",
    "plt.title(\"Boxplots of old peak\")\n",
    "plt.xticks(rotation=45)\n",
    "plt.tight_layout()\n",
    "plt.show()\n"
   ]
  },
  {
   "cell_type": "code",
   "execution_count": 374,
   "metadata": {},
   "outputs": [
    {
     "data": {
      "image/png": "[encoded data removed]",
      "text/plain": [
       "<Figure size 600x800 with 1 Axes>"
      ]
     },
     "metadata": {},
     "output_type": "display_data"
    }
   ],
   "source": [
    "plt.figure(figsize=(6, 8))\n",
    "sns.boxplot(data=df['Age'])\n",
    "plt.title(\"Boxplots of Age\")\n",
    "plt.xticks(rotation=45)\n",
    "plt.tight_layout()\n",
    "plt.show()"
   ]
  },
  {
   "cell_type": "code",
   "execution_count": 375,
   "metadata": {},
   "outputs": [
    {
     "data": {
      "image/png": "[encoded data removed]",
      "text/plain": [
       "<Figure size 600x800 with 1 Axes>"
      ]
     },
     "metadata": {},
     "output_type": "display_data"
    }
   ],
   "source": [
    "plt.figure(figsize=(6, 8))\n",
    "sns.boxplot(data=df['RestingBP'])\n",
    "plt.title(\"Boxplots of RestingBP\")\n",
    "plt.xticks(rotation=45)\n",
    "plt.tight_layout()\n",
    "plt.show()\n"
   ]
  },
  {
   "cell_type": "code",
   "execution_count": 376,
   "metadata": {},
   "outputs": [
    {
     "data": {
      "image/png": "[encoded data removed]",
      "text/plain": [
       "<Figure size 600x800 with 1 Axes>"
      ]
     },
     "metadata": {},
     "output_type": "display_data"
    }
   ],
   "source": [
    "plt.figure(figsize=(6, 8))\n",
    "sns.boxplot(data=df['Cholesterol'])\n",
    "plt.title(\"Boxplots of Cholestrol\")\n",
    "plt.xticks(rotation=45)\n",
    "plt.tight_layout()\n",
    "plt.show()"
   ]
  },
  {
   "cell_type": "code",
   "execution_count": 377,
   "metadata": {},
   "outputs": [
    {
     "data": {
      "image/png": "[encoded data removed]",
      "text/plain": [
       "<Figure size 600x800 with 1 Axes>"
      ]
     },
     "metadata": {},
     "output_type": "display_data"
    }
   ],
   "source": [
    "plt.figure(figsize=(6, 8))\n",
    "sns.boxplot(data=df['MaxHR'])\n",
    "plt.title(\"Boxplots of MaxHR\")\n",
    "plt.xticks(rotation=45)\n",
    "plt.tight_layout()\n",
    "plt.show()"
   ]
  },
  {
   "cell_type": "code",
   "execution_count": 378,
   "metadata": {},
   "outputs": [
    {
     "data": {
      "text/plain": [
       "Age                 int64\n",
       "Sex                object\n",
       "ChestPainType      object\n",
       "RestingBP         float64\n",
       "Cholesterol       float64\n",
       "FastingBS           int64\n",
       "RestingECG         object\n",
       "MaxHR               int64\n",
       "ExerciseAngina     object\n",
       "Oldpeak           float64\n",
       "ST_Slope           object\n",
       "HeartDisease        int64\n",
       "dtype: object"
      ]
     },
     "execution_count": 378,
     "metadata": {},
     "output_type": "execute_result"
    }
   ],
   "source": [
    "df.dtypes\n"
   ]
  },
  {
   "cell_type": "code",
   "execution_count": 379,
   "metadata": {},
   "outputs": [
    {
     "data": {
      "text/plain": [
       "Age                        int64\n",
       "Sex               string[python]\n",
       "ChestPainType     string[python]\n",
       "RestingBP                float64\n",
       "Cholesterol              float64\n",
       "FastingBS                  int64\n",
       "RestingECG        string[python]\n",
       "MaxHR                      int64\n",
       "ExerciseAngina    string[python]\n",
       "Oldpeak                  float64\n",
       "ST_Slope          string[python]\n",
       "HeartDisease               int64\n",
       "dtype: object"
      ]
     },
     "execution_count": 379,
     "metadata": {},
     "output_type": "execute_result"
    }
   ],
   "source": [
    "string_col = df.select_dtypes(include=\"object\").columns\n",
    "df[string_col]=df[string_col].astype(\"string\")\n",
    "df.dtypes"
   ]
  },
  {
   "cell_type": "code",
   "execution_count": 380,
   "metadata": {},
   "outputs": [
    {
     "data": {
      "application/vnd.plotly.v1+json": {
       "config": {
        "plotlyServerURL": "https://plot.ly"
       },
       "data": [
        {
         "coloraxis": "coloraxis",
         "hovertemplate": "Columns: %{x}<br>Columns: %{y}<br>color: %{z}<extra></extra>",
         "name": "0",
         "type": "heatmap",
         "x": [
          "Age",
          "RestingBP",
          "Cholesterol",
          "FastingBS",
          "MaxHR",
          "Oldpeak",
          "HeartDisease"
         ],
         "xaxis": "x",
         "y": [
          "Age",
          "RestingBP",
          "Cholesterol",
          "FastingBS",
          "MaxHR",
          "Oldpeak",
          "HeartDisease"
         ],
         "yaxis": "y",
         "z": [
          [
           1,
           0.26308086124564023,
           0.05337313639365761,
           0.19803906586674333,
           -0.3820446750319701,
           0.25861153601875636,
           0.2820385058189964
          ],
          [
           0.26308086124564023,
           1,
           0.08307556289440851,
           0.06781149435651247,
           -0.10966228328207415,
           0.1742202867802526,
           0.11793807044211453
          ],
          [
           0.05337313639365761,
           0.08307556289440851,
           1,
           0.043008334469475606,
           -0.01723890439992892,
           0.05302922727561628,
           0.09407130326875537
          ],
          [
           0.19803906586674333,
           0.06781149435651247,
           0.043008334469475606,
           1,
           -0.1314384913934405,
           0.05269786028732148,
           0.26729118611029784
          ],
          [
           -0.3820446750319701,
           -0.10966228328207415,
           -0.01723890439992892,
           -0.1314384913934405,
           1,
           -0.1606905500499244,
           -0.4004207694631906
          ],
          [
           0.25861153601875636,
           0.1742202867802526,
           0.05302922727561628,
           0.05269786028732148,
           -0.1606905500499244,
           1,
           0.40395072206288607
          ],
          [
           0.2820385058189964,
           0.11793807044211453,
           0.09407130326875537,
           0.26729118611029784,
           -0.4004207694631906,
           0.40395072206288607,
           1
          ]
         ]
        }
       ],
       "layout": {
        "coloraxis": {
         "colorscale": [
          [
           0,
           "#440154"
          ],
          [
           0.1111111111111111,
           "#482878"
          ],
          [
           0.2222222222222222,
           "#3e4989"
          ],
          [
           0.3333333333333333,
           "#31688e"
          ],
          [
           0.4444444444444444,
           "#26828e"
          ],
          [
           0.5555555555555556,
           "#1f9e89"
          ],
          [
           0.6666666666666666,
           "#35b779"
          ],
          [
           0.7777777777777778,
           "#6ece58"
          ],
          [
           0.8888888888888888,
           "#b5de2b"
          ],
          [
           1,
           "#fde725"
          ]
         ]
        },
        "template": {
         "data": {
          "bar": [
           {
            "error_x": {
             "color": "#2a3f5f"
            },
            "error_y": {
             "color": "#2a3f5f"
            },
            "marker": {
             "line": {
              "color": "#E5ECF6",
              "width": 0.5
             },
             "pattern": {
              "fillmode": "overlay",
              "size": 10,
              "solidity": 0.2
             }
            },
            "type": "bar"
           }
          ],
          "barpolar": [
           {
            "marker": {
             "line": {
              "color": "#E5ECF6",
              "width": 0.5
             },
             "pattern": {
              "fillmode": "overlay",
              "size": 10,
              "solidity": 0.2
             }
            },
            "type": "barpolar"
           }
          ],
          "carpet": [
           {
            "aaxis": {
             "endlinecolor": "#2a3f5f",
             "gridcolor": "white",
             "linecolor": "white",
             "minorgridcolor": "white",
             "startlinecolor": "#2a3f5f"
            },
            "baxis": {
             "endlinecolor": "#2a3f5f",
             "gridcolor": "white",
             "linecolor": "white",
             "minorgridcolor": "white",
             "startlinecolor": "#2a3f5f"
            },
            "type": "carpet"
           }
          ],
          "choropleth": [
           {
            "colorbar": {
             "outlinewidth": 0,
             "ticks": ""
            },
            "type": "choropleth"
           }
          ],
          "contour": [
           {
            "colorbar": {
             "outlinewidth": 0,
             "ticks": ""
            },
            "colorscale": [
             [
              0,
              "#0d0887"
             ],
             [
              0.1111111111111111,
              "#46039f"
             ],
             [
              0.2222222222222222,
              "#7201a8"
             ],
             [
              0.3333333333333333,
              "#9c179e"
             ],
             [
              0.4444444444444444,
              "#bd3786"
             ],
             [
              0.5555555555555556,
              "#d8576b"
             ],
             [
              0.6666666666666666,
              "#ed7953"
             ],
             [
              0.7777777777777778,
              "#fb9f3a"
             ],
             [
              0.8888888888888888,
              "#fdca26"
             ],
             [
              1,
              "#f0f921"
             ]
            ],
            "type": "contour"
           }
          ],
          "contourcarpet": [
           {
            "colorbar": {
             "outlinewidth": 0,
             "ticks": ""
            },
            "type": "contourcarpet"
           }
          ],
          "heatmap": [
           {
            "colorbar": {
             "outlinewidth": 0,
             "ticks": ""
            },
            "colorscale": [
             [
              0,
              "#0d0887"
             ],
             [
              0.1111111111111111,
              "#46039f"
             ],
             [
              0.2222222222222222,
              "#7201a8"
             ],
             [
              0.3333333333333333,
              "#9c179e"
             ],
             [
              0.4444444444444444,
              "#bd3786"
             ],
             [
              0.5555555555555556,
              "#d8576b"
             ],
             [
              0.6666666666666666,
              "#ed7953"
             ],
             [
              0.7777777777777778,
              "#fb9f3a"
             ],
             [
              0.8888888888888888,
              "#fdca26"
             ],
             [
              1,
              "#f0f921"
             ]
            ],
            "type": "heatmap"
           }
          ],
          "heatmapgl": [
           {
            "colorbar": {
             "outlinewidth": 0,
             "ticks": ""
            },
            "colorscale": [
             [
              0,
              "#0d0887"
             ],
             [
              0.1111111111111111,
              "#46039f"
             ],
             [
              0.2222222222222222,
              "#7201a8"
             ],
             [
              0.3333333333333333,
              "#9c179e"
             ],
             [
              0.4444444444444444,
              "#bd3786"
             ],
             [
              0.5555555555555556,
              "#d8576b"
             ],
             [
              0.6666666666666666,
              "#ed7953"
             ],
             [
              0.7777777777777778,
              "#fb9f3a"
             ],
             [
              0.8888888888888888,
              "#fdca26"
             ],
             [
              1,
              "#f0f921"
             ]
            ],
            "type": "heatmapgl"
           }
          ],
          "histogram": [
           {
            "marker": {
             "pattern": {
              "fillmode": "overlay",
              "size": 10,
              "solidity": 0.2
             }
            },
            "type": "histogram"
           }
          ],
          "histogram2d": [
           {
            "colorbar": {
             "outlinewidth": 0,
             "ticks": ""
            },
            "colorscale": [
             [
              0,
              "#0d0887"
             ],
             [
              0.1111111111111111,
              "#46039f"
             ],
             [
              0.2222222222222222,
              "#7201a8"
             ],
             [
              0.3333333333333333,
              "#9c179e"
             ],
             [
              0.4444444444444444,
              "#bd3786"
             ],
             [
              0.5555555555555556,
              "#d8576b"
             ],
             [
              0.6666666666666666,
              "#ed7953"
             ],
             [
              0.7777777777777778,
              "#fb9f3a"
             ],
             [
              0.8888888888888888,
              "#fdca26"
             ],
             [
              1,
              "#f0f921"
             ]
            ],
            "type": "histogram2d"
           }
          ],
          "histogram2dcontour": [
           {
            "colorbar": {
             "outlinewidth": 0,
             "ticks": ""
            },
            "colorscale": [
             [
              0,
              "#0d0887"
             ],
             [
              0.1111111111111111,
              "#46039f"
             ],
             [
              0.2222222222222222,
              "#7201a8"
             ],
             [
              0.3333333333333333,
              "#9c179e"
             ],
             [
              0.4444444444444444,
              "#bd3786"
             ],
             [
              0.5555555555555556,
              "#d8576b"
             ],
             [
              0.6666666666666666,
              "#ed7953"
             ],
             [
              0.7777777777777778,
              "#fb9f3a"
             ],
             [
              0.8888888888888888,
              "#fdca26"
             ],
             [
              1,
              "#f0f921"
             ]
            ],
            "type": "histogram2dcontour"
           }
          ],
          "mesh3d": [
           {
            "colorbar": {
             "outlinewidth": 0,
             "ticks": ""
            },
            "type": "mesh3d"
           }
          ],
          "parcoords": [
           {
            "line": {
             "colorbar": {
              "outlinewidth": 0,
              "ticks": ""
             }
            },
            "type": "parcoords"
           }
          ],
          "pie": [
           {
            "automargin": true,
            "type": "pie"
           }
          ],
          "scatter": [
           {
            "fillpattern": {
             "fillmode": "overlay",
             "size": 10,
             "solidity": 0.2
            },
            "type": "scatter"
           }
          ],
          "scatter3d": [
           {
            "line": {
             "colorbar": {
              "outlinewidth": 0,
              "ticks": ""
             }
            },
            "marker": {
             "colorbar": {
              "outlinewidth": 0,
              "ticks": ""
             }
            },
            "type": "scatter3d"
           }
          ],
          "scattercarpet": [
           {
            "marker": {
             "colorbar": {
              "outlinewidth": 0,
              "ticks": ""
             }
            },
            "type": "scattercarpet"
           }
          ],
          "scattergeo": [
           {
            "marker": {
             "colorbar": {
              "outlinewidth": 0,
              "ticks": ""
             }
            },
            "type": "scattergeo"
           }
          ],
          "scattergl": [
           {
            "marker": {
             "colorbar": {
              "outlinewidth": 0,
              "ticks": ""
             }
            },
            "type": "scattergl"
           }
          ],
          "scattermapbox": [
           {
            "marker": {
             "colorbar": {
              "outlinewidth": 0,
              "ticks": ""
             }
            },
            "type": "scattermapbox"
           }
          ],
          "scatterpolar": [
           {
            "marker": {
             "colorbar": {
              "outlinewidth": 0,
              "ticks": ""
             }
            },
            "type": "scatterpolar"
           }
          ],
          "scatterpolargl": [
           {
            "marker": {
             "colorbar": {
              "outlinewidth": 0,
              "ticks": ""
             }
            },
            "type": "scatterpolargl"
           }
          ],
          "scatterternary": [
           {
            "marker": {
             "colorbar": {
              "outlinewidth": 0,
              "ticks": ""
             }
            },
            "type": "scatterternary"
           }
          ],
          "surface": [
           {
            "colorbar": {
             "outlinewidth": 0,
             "ticks": ""
            },
            "colorscale": [
             [
              0,
              "#0d0887"
             ],
             [
              0.1111111111111111,
              "#46039f"
             ],
             [
              0.2222222222222222,
              "#7201a8"
             ],
             [
              0.3333333333333333,
              "#9c179e"
             ],
             [
              0.4444444444444444,
              "#bd3786"
             ],
             [
              0.5555555555555556,
              "#d8576b"
             ],
             [
              0.6666666666666666,
              "#ed7953"
             ],
             [
              0.7777777777777778,
              "#fb9f3a"
             ],
             [
              0.8888888888888888,
              "#fdca26"
             ],
             [
              1,
              "#f0f921"
             ]
            ],
            "type": "surface"
           }
          ],
          "table": [
           {
            "cells": {
             "fill": {
              "color": "#EBF0F8"
             },
             "line": {
              "color": "white"
             }
            },
            "header": {
             "fill": {
              "color": "#C8D4E3"
             },
             "line": {
              "color": "white"
             }
            },
            "type": "table"
           }
          ]
         },
         "layout": {
          "annotationdefaults": {
           "arrowcolor": "#2a3f5f",
           "arrowhead": 0,
           "arrowwidth": 1
          },
          "autotypenumbers": "strict",
          "coloraxis": {
           "colorbar": {
            "outlinewidth": 0,
            "ticks": ""
           }
          },
          "colorscale": {
           "diverging": [
            [
             0,
             "#8e0152"
            ],
            [
             0.1,
             "#c51b7d"
            ],
            [
             0.2,
             "#de77ae"
            ],
            [
             0.3,
             "#f1b6da"
            ],
            [
             0.4,
             "#fde0ef"
            ],
            [
             0.5,
             "#f7f7f7"
            ],
            [
             0.6,
             "#e6f5d0"
            ],
            [
             0.7,
             "#b8e186"
            ],
            [
             0.8,
             "#7fbc41"
            ],
            [
             0.9,
             "#4d9221"
            ],
            [
             1,
             "#276419"
            ]
           ],
           "sequential": [
            [
             0,
             "#0d0887"
            ],
            [
             0.1111111111111111,
             "#46039f"
            ],
            [
             0.2222222222222222,
             "#7201a8"
            ],
            [
             0.3333333333333333,
             "#9c179e"
            ],
            [
             0.4444444444444444,
             "#bd3786"
            ],
            [
             0.5555555555555556,
             "#d8576b"
            ],
            [
             0.6666666666666666,
             "#ed7953"
            ],
            [
             0.7777777777777778,
             "#fb9f3a"
            ],
            [
             0.8888888888888888,
             "#fdca26"
            ],
            [
             1,
             "#f0f921"
            ]
           ],
           "sequentialminus": [
            [
             0,
             "#0d0887"
            ],
            [
             0.1111111111111111,
             "#46039f"
            ],
            [
             0.2222222222222222,
             "#7201a8"
            ],
            [
             0.3333333333333333,
             "#9c179e"
            ],
            [
             0.4444444444444444,
             "#bd3786"
            ],
            [
             0.5555555555555556,
             "#d8576b"
            ],
            [
             0.6666666666666666,
             "#ed7953"
            ],
            [
             0.7777777777777778,
             "#fb9f3a"
            ],
            [
             0.8888888888888888,
             "#fdca26"
            ],
            [
             1,
             "#f0f921"
            ]
           ]
          },
          "colorway": [
           "#636efa",
           "#EF553B",
           "#00cc96",
           "#ab63fa",
           "#FFA15A",
           "#19d3f3",
           "#FF6692",
           "#B6E880",
           "#FF97FF",
           "#FECB52"
          ],
          "font": {
           "color": "#2a3f5f"
          },
          "geo": {
           "bgcolor": "white",
           "lakecolor": "white",
           "landcolor": "#E5ECF6",
           "showlakes": true,
           "showland": true,
           "subunitcolor": "white"
          },
          "hoverlabel": {
           "align": "left"
          },
          "hovermode": "closest",
          "mapbox": {
           "style": "light"
          },
          "paper_bgcolor": "white",
          "plot_bgcolor": "#E5ECF6",
          "polar": {
           "angularaxis": {
            "gridcolor": "white",
            "linecolor": "white",
            "ticks": ""
           },
           "bgcolor": "#E5ECF6",
           "radialaxis": {
            "gridcolor": "white",
            "linecolor": "white",
            "ticks": ""
           }
          },
          "scene": {
           "xaxis": {
            "backgroundcolor": "#E5ECF6",
            "gridcolor": "white",
            "gridwidth": 2,
            "linecolor": "white",
            "showbackground": true,
            "ticks": "",
            "zerolinecolor": "white"
           },
           "yaxis": {
            "backgroundcolor": "#E5ECF6",
            "gridcolor": "white",
            "gridwidth": 2,
            "linecolor": "white",
            "showbackground": true,
            "ticks": "",
            "zerolinecolor": "white"
           },
           "zaxis": {
            "backgroundcolor": "#E5ECF6",
            "gridcolor": "white",
            "gridwidth": 2,
            "linecolor": "white",
            "showbackground": true,
            "ticks": "",
            "zerolinecolor": "white"
           }
          },
          "shapedefaults": {
           "line": {
            "color": "#2a3f5f"
           }
          },
          "ternary": {
           "aaxis": {
            "gridcolor": "white",
            "linecolor": "white",
            "ticks": ""
           },
           "baxis": {
            "gridcolor": "white",
            "linecolor": "white",
            "ticks": ""
           },
           "bgcolor": "#E5ECF6",
           "caxis": {
            "gridcolor": "white",
            "linecolor": "white",
            "ticks": ""
           }
          },
          "title": {
           "x": 0.05
          },
          "xaxis": {
           "automargin": true,
           "gridcolor": "white",
           "linecolor": "white",
           "ticks": "",
           "title": {
            "standoff": 15
           },
           "zerolinecolor": "white",
           "zerolinewidth": 2
          },
          "yaxis": {
           "automargin": true,
           "gridcolor": "white",
           "linecolor": "white",
           "ticks": "",
           "title": {
            "standoff": 15
           },
           "zerolinecolor": "white",
           "zerolinewidth": 2
          }
         }
        },
        "title": {
         "text": "Correlation Plot of the Heart Failure Prediction"
        },
        "xaxis": {
         "anchor": "y",
         "constrain": "domain",
         "domain": [
          0,
          1
         ],
         "scaleanchor": "y",
         "title": {
          "text": "Columns"
         }
        },
        "yaxis": {
         "anchor": "x",
         "autorange": "reversed",
         "constrain": "domain",
         "domain": [
          0,
          1
         ],
         "title": {
          "text": "Columns"
         }
        }
       }
      }
     },
     "metadata": {},
     "output_type": "display_data"
    }
   ],
   "source": [
    "\n",
    "correlation_matrix = df[num_col + [\"HeartDisease\"]].corr()\n",
    "fig = px.imshow(correlation_matrix,\n",
    "                labels=dict(x=\"Columns\", y=\"Columns\"),\n",
    "                x=correlation_matrix.columns,\n",
    "                y=correlation_matrix.columns,\n",
    "                color_continuous_scale=\"Viridis\",\n",
    "                title=\"Correlation Plot of the Heart Failure Prediction\")\n",
    "\n",
    "fig.show()"
   ]
  },
  {
   "cell_type": "code",
   "execution_count": 381,
   "metadata": {},
   "outputs": [
    {
     "name": "stdout",
     "output_type": "stream",
     "text": [
      "<class 'pandas.core.frame.DataFrame'>\n",
      "RangeIndex: 918 entries, 0 to 917\n",
      "Data columns (total 12 columns):\n",
      " #   Column          Non-Null Count  Dtype  \n",
      "---  ------          --------------  -----  \n",
      " 0   Age             918 non-null    int64  \n",
      " 1   Sex             918 non-null    string \n",
      " 2   ChestPainType   918 non-null    string \n",
      " 3   RestingBP       918 non-null    float64\n",
      " 4   Cholesterol     918 non-null    float64\n",
      " 5   FastingBS       918 non-null    int64  \n",
      " 6   RestingECG      918 non-null    string \n",
      " 7   MaxHR           918 non-null    int64  \n",
      " 8   ExerciseAngina  918 non-null    string \n",
      " 9   Oldpeak         918 non-null    float64\n",
      " 10  ST_Slope        918 non-null    string \n",
      " 11  HeartDisease    918 non-null    int64  \n",
      "dtypes: float64(3), int64(4), string(5)\n",
      "memory usage: 86.2 KB\n"
     ]
    }
   ],
   "source": [
    "df.info()"
   ]
  },
  {
   "cell_type": "code",
   "execution_count": 382,
   "metadata": {},
   "outputs": [
    {
     "data": {
      "text/plain": [
       "Age               0\n",
       "Sex               0\n",
       "ChestPainType     0\n",
       "RestingBP         0\n",
       "Cholesterol       0\n",
       "FastingBS         0\n",
       "RestingECG        0\n",
       "MaxHR             0\n",
       "ExerciseAngina    0\n",
       "Oldpeak           0\n",
       "ST_Slope          0\n",
       "HeartDisease      0\n",
       "dtype: int64"
      ]
     },
     "execution_count": 382,
     "metadata": {},
     "output_type": "execute_result"
    }
   ],
   "source": [
    "df.isnull().sum()"
   ]
  },
  {
   "cell_type": "code",
   "execution_count": 383,
   "metadata": {},
   "outputs": [
    {
     "name": "stdout",
     "output_type": "stream",
     "text": [
      "Column: Age\n",
      "Trimmed Mean (X¯T): 53.71059782608695\n",
      "Trimmed Median (M¯T): 54.0\n",
      "\n",
      "Column: RestingBP\n",
      "Trimmed Mean (X¯T): 131.5319849106254\n",
      "Trimmed Median (M¯T): 130.0\n",
      "\n",
      "Column: Cholesterol\n",
      "Trimmed Mean (X¯T): 241.5574549772701\n",
      "Trimmed Median (M¯T): 244.6353887399464\n",
      "\n",
      "Column: FastingBS\n",
      "Trimmed Mean (X¯T): 0.1671195652173913\n",
      "Trimmed Median (M¯T): 0.0\n",
      "\n",
      "Column: MaxHR\n",
      "Trimmed Mean (X¯T): 137.23097826086956\n",
      "Trimmed Median (M¯T): 138.0\n",
      "\n",
      "Column: Oldpeak\n",
      "Trimmed Mean (X¯T): 0.7376358695652173\n",
      "Trimmed Median (M¯T): 0.6\n",
      "\n"
     ]
    }
   ],
   "source": [
    "from scipy import stats\n",
    "\n",
    "trim_proportion = 0.1\n",
    "\n",
    "\n",
    "for column_name in df[num_col].columns:\n",
    "    column_data = df[column_name]\n",
    "\n",
    "    trimmed_mean = stats.trim_mean(\n",
    "        column_data, proportiontocut=trim_proportion)\n",
    "\n",
    "    sorted_data = np.sort(column_data)\n",
    "    n = len(sorted_data)\n",
    "    trimmed_count = int(n * trim_proportion)\n",
    "    trimmed_data = sorted_data[trimmed_count:n - trimmed_count]\n",
    "    trimmed_median = np.median(trimmed_data)\n",
    "\n",
    "    # Print the results for each column\n",
    "    print(\"Column:\", column_name)\n",
    "    print(\"Trimmed Mean (X¯T):\", trimmed_mean)\n",
    "    print(\"Trimmed Median (M¯T):\", trimmed_median)\n",
    "    print()"
   ]
  },
  {
   "cell_type": "code",
   "execution_count": 384,
   "metadata": {},
   "outputs": [
    {
     "data": {
      "text/plain": [
       "Age           -0.20\n",
       "RestingBP      0.61\n",
       "Cholesterol    1.37\n",
       "FastingBS      1.26\n",
       "MaxHR         -0.14\n",
       "Oldpeak        1.02\n",
       "dtype: float64"
      ]
     },
     "execution_count": 384,
     "metadata": {},
     "output_type": "execute_result"
    }
   ],
   "source": [
    "df[num_col].skew()"
   ]
  },
  {
   "cell_type": "code",
   "execution_count": 385,
   "metadata": {},
   "outputs": [],
   "source": [
    "\n",
    "numerical_col = df[['Age', 'RestingBP', 'Cholesterol', 'MaxHR']]\n",
    "for col in numerical_col:\n",
    "\n",
    "    if df[col].skew() > 0.55:\n",
    "\n",
    "        df[col] = np.log1p(numerical_col[col])"
   ]
  },
  {
   "cell_type": "code",
   "execution_count": 386,
   "metadata": {},
   "outputs": [],
   "source": [
    "from scipy.stats import yeojohnson\n",
    "transformed_data, _ = yeojohnson(df['Oldpeak'].values.reshape(-1, 1))\n",
    "df['Oldpeak'] =transformed_data"
   ]
  },
  {
   "cell_type": "code",
   "execution_count": 387,
   "metadata": {},
   "outputs": [
    {
     "data": {
      "text/plain": [
       "Age           -0.20\n",
       "RestingBP      0.15\n",
       "Cholesterol   -0.17\n",
       "FastingBS      1.26\n",
       "MaxHR         -0.14\n",
       "Oldpeak       -0.30\n",
       "dtype: float64"
      ]
     },
     "execution_count": 387,
     "metadata": {},
     "output_type": "execute_result"
    }
   ],
   "source": [
    "df[num_col].skew()"
   ]
  },
  {
   "cell_type": "code",
   "execution_count": 432,
   "metadata": {},
   "outputs": [
    {
     "data": {
      "image/png": "[encoded data removed]",
      "text/plain": [
       "<Figure size 800x600 with 6 Axes>"
      ]
     },
     "metadata": {},
     "output_type": "display_data"
    }
   ],
   "source": [
    "df[num_col].hist(figsize=(8, 6))\n",
    "plt.suptitle(\"Histograms of Numeric Columns\", y=1.02)\n",
    "plt.tight_layout()\n",
    "plt.show()"
   ]
  },
  {
   "cell_type": "code",
   "execution_count": 389,
   "metadata": {},
   "outputs": [
    {
     "data": {
      "image/png": "[encoded data removed]",
      "text/plain": [
       "<Figure size 800x600 with 1 Axes>"
      ]
     },
     "metadata": {},
     "output_type": "display_data"
    },
    {
     "data": {
      "image/png": "[encoded data removed]",
      "text/plain": [
       "<Figure size 800x600 with 1 Axes>"
      ]
     },
     "metadata": {},
     "output_type": "display_data"
    },
    {
     "data": {
      "image/png": "[encoded data removed]",
      "text/plain": [
       "<Figure size 800x600 with 1 Axes>"
      ]
     },
     "metadata": {},
     "output_type": "display_data"
    },
    {
     "data": {
      "image/png": "[encoded data removed]",
      "text/plain": [
       "<Figure size 800x600 with 1 Axes>"
      ]
     },
     "metadata": {},
     "output_type": "display_data"
    },
    {
     "data": {
      "image/png": "[encoded data removed]",
      "text/plain": [
       "<Figure size 800x600 with 1 Axes>"
      ]
     },
     "metadata": {},
     "output_type": "display_data"
    },
    {
     "data": {
      "image/png": "[encoded data removed]",
      "text/plain": [
       "<Figure size 800x600 with 1 Axes>"
      ]
     },
     "metadata": {},
     "output_type": "display_data"
    }
   ],
   "source": [
    "for col in num_col:\n",
    "    plt.figure(figsize=(8, 6))\n",
    "    df[col].plot(kind='hist', density=True, bins=20)  # Adjust the number of bins as needed\n",
    "    plt.title(f'Histogram of {col}')\n",
    "    plt.xlabel(col)\n",
    "    plt.ylabel('Frequency')\n",
    "    plt.grid(True)\n",
    "    plt.show()"
   ]
  },
  {
   "cell_type": "code",
   "execution_count": 390,
   "metadata": {},
   "outputs": [
    {
     "name": "stdout",
     "output_type": "stream",
     "text": [
      "     Age Sex ChestPainType  RestingBP  Cholesterol  FastingBS RestingECG  \\\n",
      "0     40   M           ATA       4.95         5.67          0     Normal   \n",
      "1     49   F           NAP       5.08         5.20          0     Normal   \n",
      "2     37   M           ATA       4.88         5.65          0         ST   \n",
      "3     48   F           ASY       4.93         5.37          0     Normal   \n",
      "4     54   M           NAP       5.02         5.28          0     Normal   \n",
      "..   ...  ..           ...        ...          ...        ...        ...   \n",
      "913   45   M            TA       4.71         5.58          0     Normal   \n",
      "914   68   M           ASY       4.98         5.27          1     Normal   \n",
      "915   57   M           ASY       4.88         4.88          0     Normal   \n",
      "916   57   F           ATA       4.88         5.47          0        LVH   \n",
      "917   38   M           NAP       4.93         5.17          0     Normal   \n",
      "\n",
      "     MaxHR ExerciseAngina  Oldpeak ST_Slope  HeartDisease  \n",
      "0      172              N     0.00       Up             0  \n",
      "1      156              N     0.78     Flat             1  \n",
      "2       98              N     0.00       Up             0  \n",
      "3      108              Y     1.06     Flat             1  \n",
      "4      122              N     0.00       Up             0  \n",
      "..     ...            ...      ...      ...           ...  \n",
      "913    132              N     0.90     Flat             1  \n",
      "914    141              N     1.90     Flat             1  \n",
      "915    115              Y     0.90     Flat             1  \n",
      "916    174              N     0.00     Flat             1  \n",
      "917    173              N     0.00       Up             0  \n",
      "\n",
      "[901 rows x 12 columns]\n"
     ]
    }
   ],
   "source": [
    "z_scores = np.abs(stats.zscore(df['Cholesterol']))\n",
    "threshold = 3\n",
    "cleaned_data = df[z_scores < threshold].copy()\n",
    "print(cleaned_data)"
   ]
  },
  {
   "cell_type": "code",
   "execution_count": 391,
   "metadata": {},
   "outputs": [
    {
     "name": "stdout",
     "output_type": "stream",
     "text": [
      "The distribution of categorical valeus in the Sex is : \n",
      "Sex\n",
      "M    710\n",
      "F    191\n",
      "Name: count, dtype: Int64\n",
      "The distribution of categorical valeus in the ChestPainType is : \n",
      "ChestPainType\n",
      "ASY    485\n",
      "NAP    199\n",
      "ATA    171\n",
      "TA      46\n",
      "Name: count, dtype: Int64\n",
      "The distribution of categorical valeus in the RestingECG is : \n",
      "RestingECG\n",
      "Normal    538\n",
      "LVH       185\n",
      "ST        178\n",
      "Name: count, dtype: Int64\n",
      "The distribution of categorical valeus in the ExerciseAngina is : \n",
      "ExerciseAngina\n",
      "N    536\n",
      "Y    365\n",
      "Name: count, dtype: Int64\n",
      "The distribution of categorical valeus in the ST_Slope is : \n",
      "ST_Slope\n",
      "Flat    449\n",
      "Up      391\n",
      "Down     61\n",
      "Name: count, dtype: Int64\n"
     ]
    }
   ],
   "source": [
    "string_col_ = cleaned_data.select_dtypes(include=\"string\").columns\n",
    "\n",
    "for col in string_col_:\n",
    "    print(f\"The distribution of categorical valeus in the {col} is : \")\n",
    "    print(cleaned_data[col].value_counts())"
   ]
  },
  {
   "cell_type": "code",
   "execution_count": 392,
   "metadata": {},
   "outputs": [
    {
     "data": {
      "text/html": [
       "<div>\n",
       "<style scoped>\n",
       "    .dataframe tbody tr th:only-of-type {\n",
       "        vertical-align: middle;\n",
       "    }\n",
       "\n",
       "    .dataframe tbody tr th {\n",
       "        vertical-align: top;\n",
       "    }\n",
       "\n",
       "    .dataframe thead th {\n",
       "        text-align: right;\n",
       "    }\n",
       "</style>\n",
       "<table border=\"1\" class=\"dataframe\">\n",
       "  <thead>\n",
       "    <tr style=\"text-align: right;\">\n",
       "      <th></th>\n",
       "      <th>Age</th>\n",
       "      <th>RestingBP</th>\n",
       "      <th>Cholesterol</th>\n",
       "      <th>FastingBS</th>\n",
       "      <th>MaxHR</th>\n",
       "      <th>Oldpeak</th>\n",
       "      <th>HeartDisease</th>\n",
       "      <th>Sex_F</th>\n",
       "      <th>Sex_M</th>\n",
       "      <th>ChestPainType_ASY</th>\n",
       "      <th>...</th>\n",
       "      <th>ChestPainType_NAP</th>\n",
       "      <th>ChestPainType_TA</th>\n",
       "      <th>RestingECG_LVH</th>\n",
       "      <th>RestingECG_Normal</th>\n",
       "      <th>RestingECG_ST</th>\n",
       "      <th>ExerciseAngina_N</th>\n",
       "      <th>ExerciseAngina_Y</th>\n",
       "      <th>ST_Slope_Down</th>\n",
       "      <th>ST_Slope_Flat</th>\n",
       "      <th>ST_Slope_Up</th>\n",
       "    </tr>\n",
       "  </thead>\n",
       "  <tbody>\n",
       "    <tr>\n",
       "      <th>0</th>\n",
       "      <td>40</td>\n",
       "      <td>4.95</td>\n",
       "      <td>5.67</td>\n",
       "      <td>0</td>\n",
       "      <td>172</td>\n",
       "      <td>0.00</td>\n",
       "      <td>0</td>\n",
       "      <td>False</td>\n",
       "      <td>True</td>\n",
       "      <td>False</td>\n",
       "      <td>...</td>\n",
       "      <td>False</td>\n",
       "      <td>False</td>\n",
       "      <td>False</td>\n",
       "      <td>True</td>\n",
       "      <td>False</td>\n",
       "      <td>True</td>\n",
       "      <td>False</td>\n",
       "      <td>False</td>\n",
       "      <td>False</td>\n",
       "      <td>True</td>\n",
       "    </tr>\n",
       "    <tr>\n",
       "      <th>1</th>\n",
       "      <td>49</td>\n",
       "      <td>5.08</td>\n",
       "      <td>5.20</td>\n",
       "      <td>0</td>\n",
       "      <td>156</td>\n",
       "      <td>0.78</td>\n",
       "      <td>1</td>\n",
       "      <td>True</td>\n",
       "      <td>False</td>\n",
       "      <td>False</td>\n",
       "      <td>...</td>\n",
       "      <td>True</td>\n",
       "      <td>False</td>\n",
       "      <td>False</td>\n",
       "      <td>True</td>\n",
       "      <td>False</td>\n",
       "      <td>True</td>\n",
       "      <td>False</td>\n",
       "      <td>False</td>\n",
       "      <td>True</td>\n",
       "      <td>False</td>\n",
       "    </tr>\n",
       "    <tr>\n",
       "      <th>2</th>\n",
       "      <td>37</td>\n",
       "      <td>4.88</td>\n",
       "      <td>5.65</td>\n",
       "      <td>0</td>\n",
       "      <td>98</td>\n",
       "      <td>0.00</td>\n",
       "      <td>0</td>\n",
       "      <td>False</td>\n",
       "      <td>True</td>\n",
       "      <td>False</td>\n",
       "      <td>...</td>\n",
       "      <td>False</td>\n",
       "      <td>False</td>\n",
       "      <td>False</td>\n",
       "      <td>False</td>\n",
       "      <td>True</td>\n",
       "      <td>True</td>\n",
       "      <td>False</td>\n",
       "      <td>False</td>\n",
       "      <td>False</td>\n",
       "      <td>True</td>\n",
       "    </tr>\n",
       "    <tr>\n",
       "      <th>3</th>\n",
       "      <td>48</td>\n",
       "      <td>4.93</td>\n",
       "      <td>5.37</td>\n",
       "      <td>0</td>\n",
       "      <td>108</td>\n",
       "      <td>1.06</td>\n",
       "      <td>1</td>\n",
       "      <td>True</td>\n",
       "      <td>False</td>\n",
       "      <td>True</td>\n",
       "      <td>...</td>\n",
       "      <td>False</td>\n",
       "      <td>False</td>\n",
       "      <td>False</td>\n",
       "      <td>True</td>\n",
       "      <td>False</td>\n",
       "      <td>False</td>\n",
       "      <td>True</td>\n",
       "      <td>False</td>\n",
       "      <td>True</td>\n",
       "      <td>False</td>\n",
       "    </tr>\n",
       "    <tr>\n",
       "      <th>4</th>\n",
       "      <td>54</td>\n",
       "      <td>5.02</td>\n",
       "      <td>5.28</td>\n",
       "      <td>0</td>\n",
       "      <td>122</td>\n",
       "      <td>0.00</td>\n",
       "      <td>0</td>\n",
       "      <td>False</td>\n",
       "      <td>True</td>\n",
       "      <td>False</td>\n",
       "      <td>...</td>\n",
       "      <td>True</td>\n",
       "      <td>False</td>\n",
       "      <td>False</td>\n",
       "      <td>True</td>\n",
       "      <td>False</td>\n",
       "      <td>True</td>\n",
       "      <td>False</td>\n",
       "      <td>False</td>\n",
       "      <td>False</td>\n",
       "      <td>True</td>\n",
       "    </tr>\n",
       "  </tbody>\n",
       "</table>\n",
       "<p>5 rows × 21 columns</p>\n",
       "</div>"
      ],
      "text/plain": [
       "   Age  RestingBP  Cholesterol  FastingBS  MaxHR  Oldpeak  HeartDisease  \\\n",
       "0   40       4.95         5.67          0    172     0.00             0   \n",
       "1   49       5.08         5.20          0    156     0.78             1   \n",
       "2   37       4.88         5.65          0     98     0.00             0   \n",
       "3   48       4.93         5.37          0    108     1.06             1   \n",
       "4   54       5.02         5.28          0    122     0.00             0   \n",
       "\n",
       "   Sex_F  Sex_M  ChestPainType_ASY  ...  ChestPainType_NAP  ChestPainType_TA  \\\n",
       "0  False   True              False  ...              False             False   \n",
       "1   True  False              False  ...               True             False   \n",
       "2  False   True              False  ...              False             False   \n",
       "3   True  False               True  ...              False             False   \n",
       "4  False   True              False  ...               True             False   \n",
       "\n",
       "   RestingECG_LVH  RestingECG_Normal  RestingECG_ST  ExerciseAngina_N  \\\n",
       "0           False               True          False              True   \n",
       "1           False               True          False              True   \n",
       "2           False              False           True              True   \n",
       "3           False               True          False             False   \n",
       "4           False               True          False              True   \n",
       "\n",
       "   ExerciseAngina_Y  ST_Slope_Down  ST_Slope_Flat  ST_Slope_Up  \n",
       "0             False          False          False         True  \n",
       "1             False          False           True        False  \n",
       "2             False          False          False         True  \n",
       "3              True          False           True        False  \n",
       "4             False          False          False         True  \n",
       "\n",
       "[5 rows x 21 columns]"
      ]
     },
     "execution_count": 392,
     "metadata": {},
     "output_type": "execute_result"
    }
   ],
   "source": [
    "## Creaeting one hot encoded features for working with non tree based algorithms \n",
    "\n",
    "df_nontree=pd.get_dummies(cleaned_data,columns=string_col_,drop_first=False)\n",
    "df_nontree.head()"
   ]
  },
  {
   "cell_type": "code",
   "execution_count": null,
   "metadata": {},
   "outputs": [],
   "source": []
  },
  {
   "cell_type": "code",
   "execution_count": 393,
   "metadata": {},
   "outputs": [
    {
     "data": {
      "text/html": [
       "<div>\n",
       "<style scoped>\n",
       "    .dataframe tbody tr th:only-of-type {\n",
       "        vertical-align: middle;\n",
       "    }\n",
       "\n",
       "    .dataframe tbody tr th {\n",
       "        vertical-align: top;\n",
       "    }\n",
       "\n",
       "    .dataframe thead th {\n",
       "        text-align: right;\n",
       "    }\n",
       "</style>\n",
       "<table border=\"1\" class=\"dataframe\">\n",
       "  <thead>\n",
       "    <tr style=\"text-align: right;\">\n",
       "      <th></th>\n",
       "      <th>Age</th>\n",
       "      <th>RestingBP</th>\n",
       "      <th>Cholesterol</th>\n",
       "      <th>FastingBS</th>\n",
       "      <th>MaxHR</th>\n",
       "      <th>Oldpeak</th>\n",
       "      <th>Sex_F</th>\n",
       "      <th>Sex_M</th>\n",
       "      <th>ChestPainType_ASY</th>\n",
       "      <th>ChestPainType_ATA</th>\n",
       "      <th>...</th>\n",
       "      <th>ChestPainType_TA</th>\n",
       "      <th>RestingECG_LVH</th>\n",
       "      <th>RestingECG_Normal</th>\n",
       "      <th>RestingECG_ST</th>\n",
       "      <th>ExerciseAngina_N</th>\n",
       "      <th>ExerciseAngina_Y</th>\n",
       "      <th>ST_Slope_Down</th>\n",
       "      <th>ST_Slope_Flat</th>\n",
       "      <th>ST_Slope_Up</th>\n",
       "      <th>HeartDisease</th>\n",
       "    </tr>\n",
       "  </thead>\n",
       "  <tbody>\n",
       "    <tr>\n",
       "      <th>0</th>\n",
       "      <td>40</td>\n",
       "      <td>4.95</td>\n",
       "      <td>5.67</td>\n",
       "      <td>0</td>\n",
       "      <td>172</td>\n",
       "      <td>0.00</td>\n",
       "      <td>False</td>\n",
       "      <td>True</td>\n",
       "      <td>False</td>\n",
       "      <td>True</td>\n",
       "      <td>...</td>\n",
       "      <td>False</td>\n",
       "      <td>False</td>\n",
       "      <td>True</td>\n",
       "      <td>False</td>\n",
       "      <td>True</td>\n",
       "      <td>False</td>\n",
       "      <td>False</td>\n",
       "      <td>False</td>\n",
       "      <td>True</td>\n",
       "      <td>0</td>\n",
       "    </tr>\n",
       "    <tr>\n",
       "      <th>1</th>\n",
       "      <td>49</td>\n",
       "      <td>5.08</td>\n",
       "      <td>5.20</td>\n",
       "      <td>0</td>\n",
       "      <td>156</td>\n",
       "      <td>0.78</td>\n",
       "      <td>True</td>\n",
       "      <td>False</td>\n",
       "      <td>False</td>\n",
       "      <td>False</td>\n",
       "      <td>...</td>\n",
       "      <td>False</td>\n",
       "      <td>False</td>\n",
       "      <td>True</td>\n",
       "      <td>False</td>\n",
       "      <td>True</td>\n",
       "      <td>False</td>\n",
       "      <td>False</td>\n",
       "      <td>True</td>\n",
       "      <td>False</td>\n",
       "      <td>1</td>\n",
       "    </tr>\n",
       "    <tr>\n",
       "      <th>2</th>\n",
       "      <td>37</td>\n",
       "      <td>4.88</td>\n",
       "      <td>5.65</td>\n",
       "      <td>0</td>\n",
       "      <td>98</td>\n",
       "      <td>0.00</td>\n",
       "      <td>False</td>\n",
       "      <td>True</td>\n",
       "      <td>False</td>\n",
       "      <td>True</td>\n",
       "      <td>...</td>\n",
       "      <td>False</td>\n",
       "      <td>False</td>\n",
       "      <td>False</td>\n",
       "      <td>True</td>\n",
       "      <td>True</td>\n",
       "      <td>False</td>\n",
       "      <td>False</td>\n",
       "      <td>False</td>\n",
       "      <td>True</td>\n",
       "      <td>0</td>\n",
       "    </tr>\n",
       "    <tr>\n",
       "      <th>3</th>\n",
       "      <td>48</td>\n",
       "      <td>4.93</td>\n",
       "      <td>5.37</td>\n",
       "      <td>0</td>\n",
       "      <td>108</td>\n",
       "      <td>1.06</td>\n",
       "      <td>True</td>\n",
       "      <td>False</td>\n",
       "      <td>True</td>\n",
       "      <td>False</td>\n",
       "      <td>...</td>\n",
       "      <td>False</td>\n",
       "      <td>False</td>\n",
       "      <td>True</td>\n",
       "      <td>False</td>\n",
       "      <td>False</td>\n",
       "      <td>True</td>\n",
       "      <td>False</td>\n",
       "      <td>True</td>\n",
       "      <td>False</td>\n",
       "      <td>1</td>\n",
       "    </tr>\n",
       "    <tr>\n",
       "      <th>4</th>\n",
       "      <td>54</td>\n",
       "      <td>5.02</td>\n",
       "      <td>5.28</td>\n",
       "      <td>0</td>\n",
       "      <td>122</td>\n",
       "      <td>0.00</td>\n",
       "      <td>False</td>\n",
       "      <td>True</td>\n",
       "      <td>False</td>\n",
       "      <td>False</td>\n",
       "      <td>...</td>\n",
       "      <td>False</td>\n",
       "      <td>False</td>\n",
       "      <td>True</td>\n",
       "      <td>False</td>\n",
       "      <td>True</td>\n",
       "      <td>False</td>\n",
       "      <td>False</td>\n",
       "      <td>False</td>\n",
       "      <td>True</td>\n",
       "      <td>0</td>\n",
       "    </tr>\n",
       "  </tbody>\n",
       "</table>\n",
       "<p>5 rows × 21 columns</p>\n",
       "</div>"
      ],
      "text/plain": [
       "   Age  RestingBP  Cholesterol  FastingBS  MaxHR  Oldpeak  Sex_F  Sex_M  \\\n",
       "0   40       4.95         5.67          0    172     0.00  False   True   \n",
       "1   49       5.08         5.20          0    156     0.78   True  False   \n",
       "2   37       4.88         5.65          0     98     0.00  False   True   \n",
       "3   48       4.93         5.37          0    108     1.06   True  False   \n",
       "4   54       5.02         5.28          0    122     0.00  False   True   \n",
       "\n",
       "   ChestPainType_ASY  ChestPainType_ATA  ...  ChestPainType_TA  \\\n",
       "0              False               True  ...             False   \n",
       "1              False              False  ...             False   \n",
       "2              False               True  ...             False   \n",
       "3               True              False  ...             False   \n",
       "4              False              False  ...             False   \n",
       "\n",
       "   RestingECG_LVH  RestingECG_Normal  RestingECG_ST  ExerciseAngina_N  \\\n",
       "0           False               True          False              True   \n",
       "1           False               True          False              True   \n",
       "2           False              False           True              True   \n",
       "3           False               True          False             False   \n",
       "4           False               True          False              True   \n",
       "\n",
       "   ExerciseAngina_Y  ST_Slope_Down  ST_Slope_Flat  ST_Slope_Up  HeartDisease  \n",
       "0             False          False          False         True             0  \n",
       "1             False          False           True        False             1  \n",
       "2             False          False          False         True             0  \n",
       "3              True          False           True        False             1  \n",
       "4             False          False          False         True             0  \n",
       "\n",
       "[5 rows x 21 columns]"
      ]
     },
     "execution_count": 393,
     "metadata": {},
     "output_type": "execute_result"
    }
   ],
   "source": [
    "# Getting the target column at the end\n",
    "target=\"HeartDisease\"\n",
    "y=df_nontree[target].values\n",
    "df_nontree.drop(\"HeartDisease\",axis=1,inplace=True)\n",
    "df_nontree=pd.concat([df_nontree,cleaned_data[target]],axis=1)\n",
    "df_nontree.head()"
   ]
  },
  {
   "cell_type": "code",
   "execution_count": 394,
   "metadata": {},
   "outputs": [
    {
     "data": {
      "text/html": [
       "<div>\n",
       "<style scoped>\n",
       "    .dataframe tbody tr th:only-of-type {\n",
       "        vertical-align: middle;\n",
       "    }\n",
       "\n",
       "    .dataframe tbody tr th {\n",
       "        vertical-align: top;\n",
       "    }\n",
       "\n",
       "    .dataframe thead th {\n",
       "        text-align: right;\n",
       "    }\n",
       "</style>\n",
       "<table border=\"1\" class=\"dataframe\">\n",
       "  <thead>\n",
       "    <tr style=\"text-align: right;\">\n",
       "      <th></th>\n",
       "      <th>Age</th>\n",
       "      <th>Sex</th>\n",
       "      <th>ChestPainType</th>\n",
       "      <th>RestingBP</th>\n",
       "      <th>Cholesterol</th>\n",
       "      <th>FastingBS</th>\n",
       "      <th>RestingECG</th>\n",
       "      <th>MaxHR</th>\n",
       "      <th>ExerciseAngina</th>\n",
       "      <th>Oldpeak</th>\n",
       "      <th>ST_Slope</th>\n",
       "      <th>HeartDisease</th>\n",
       "    </tr>\n",
       "  </thead>\n",
       "  <tbody>\n",
       "    <tr>\n",
       "      <th>0</th>\n",
       "      <td>12</td>\n",
       "      <td>1</td>\n",
       "      <td>1</td>\n",
       "      <td>39</td>\n",
       "      <td>140</td>\n",
       "      <td>0</td>\n",
       "      <td>1</td>\n",
       "      <td>97</td>\n",
       "      <td>0</td>\n",
       "      <td>10</td>\n",
       "      <td>2</td>\n",
       "      <td>0</td>\n",
       "    </tr>\n",
       "    <tr>\n",
       "      <th>1</th>\n",
       "      <td>21</td>\n",
       "      <td>0</td>\n",
       "      <td>2</td>\n",
       "      <td>53</td>\n",
       "      <td>32</td>\n",
       "      <td>0</td>\n",
       "      <td>1</td>\n",
       "      <td>81</td>\n",
       "      <td>0</td>\n",
       "      <td>20</td>\n",
       "      <td>1</td>\n",
       "      <td>1</td>\n",
       "    </tr>\n",
       "    <tr>\n",
       "      <th>2</th>\n",
       "      <td>9</td>\n",
       "      <td>1</td>\n",
       "      <td>1</td>\n",
       "      <td>28</td>\n",
       "      <td>134</td>\n",
       "      <td>0</td>\n",
       "      <td>2</td>\n",
       "      <td>24</td>\n",
       "      <td>0</td>\n",
       "      <td>10</td>\n",
       "      <td>2</td>\n",
       "      <td>0</td>\n",
       "    </tr>\n",
       "    <tr>\n",
       "      <th>3</th>\n",
       "      <td>20</td>\n",
       "      <td>0</td>\n",
       "      <td>0</td>\n",
       "      <td>37</td>\n",
       "      <td>64</td>\n",
       "      <td>0</td>\n",
       "      <td>1</td>\n",
       "      <td>33</td>\n",
       "      <td>1</td>\n",
       "      <td>25</td>\n",
       "      <td>1</td>\n",
       "      <td>1</td>\n",
       "    </tr>\n",
       "    <tr>\n",
       "      <th>4</th>\n",
       "      <td>26</td>\n",
       "      <td>1</td>\n",
       "      <td>2</td>\n",
       "      <td>47</td>\n",
       "      <td>45</td>\n",
       "      <td>0</td>\n",
       "      <td>1</td>\n",
       "      <td>47</td>\n",
       "      <td>0</td>\n",
       "      <td>10</td>\n",
       "      <td>2</td>\n",
       "      <td>0</td>\n",
       "    </tr>\n",
       "  </tbody>\n",
       "</table>\n",
       "</div>"
      ],
      "text/plain": [
       "   Age  Sex  ChestPainType  RestingBP  Cholesterol  FastingBS  RestingECG  \\\n",
       "0   12    1              1         39          140          0           1   \n",
       "1   21    0              2         53           32          0           1   \n",
       "2    9    1              1         28          134          0           2   \n",
       "3   20    0              0         37           64          0           1   \n",
       "4   26    1              2         47           45          0           1   \n",
       "\n",
       "   MaxHR  ExerciseAngina  Oldpeak  ST_Slope  HeartDisease  \n",
       "0     97               0       10         2             0  \n",
       "1     81               0       20         1             1  \n",
       "2     24               0       10         2             0  \n",
       "3     33               1       25         1             1  \n",
       "4     47               0       10         2             0  "
      ]
     },
     "execution_count": 394,
     "metadata": {},
     "output_type": "execute_result"
    }
   ],
   "source": [
    "## Creaeting one hot encoded features for working with tree based algorithms \n",
    "from sklearn.preprocessing import LabelEncoder\n",
    "df_tree = cleaned_data.apply(LabelEncoder().fit_transform)\n",
    "df_tree.head()"
   ]
  },
  {
   "cell_type": "markdown",
   "metadata": {},
   "source": [
    "## Non tree based"
   ]
  },
  {
   "cell_type": "code",
   "execution_count": 395,
   "metadata": {},
   "outputs": [
    {
     "data": {
      "text/html": [
       "<div>\n",
       "<style scoped>\n",
       "    .dataframe tbody tr th:only-of-type {\n",
       "        vertical-align: middle;\n",
       "    }\n",
       "\n",
       "    .dataframe tbody tr th {\n",
       "        vertical-align: top;\n",
       "    }\n",
       "\n",
       "    .dataframe thead th {\n",
       "        text-align: right;\n",
       "    }\n",
       "</style>\n",
       "<table border=\"1\" class=\"dataframe\">\n",
       "  <thead>\n",
       "    <tr style=\"text-align: right;\">\n",
       "      <th></th>\n",
       "      <th>Age</th>\n",
       "      <th>RestingBP</th>\n",
       "      <th>Cholesterol</th>\n",
       "      <th>FastingBS</th>\n",
       "      <th>MaxHR</th>\n",
       "      <th>Oldpeak</th>\n",
       "      <th>Sex_F</th>\n",
       "      <th>Sex_M</th>\n",
       "      <th>ChestPainType_ASY</th>\n",
       "      <th>ChestPainType_ATA</th>\n",
       "      <th>...</th>\n",
       "      <th>ChestPainType_TA</th>\n",
       "      <th>RestingECG_LVH</th>\n",
       "      <th>RestingECG_Normal</th>\n",
       "      <th>RestingECG_ST</th>\n",
       "      <th>ExerciseAngina_N</th>\n",
       "      <th>ExerciseAngina_Y</th>\n",
       "      <th>ST_Slope_Down</th>\n",
       "      <th>ST_Slope_Flat</th>\n",
       "      <th>ST_Slope_Up</th>\n",
       "      <th>HeartDisease</th>\n",
       "    </tr>\n",
       "  </thead>\n",
       "  <tbody>\n",
       "    <tr>\n",
       "      <th>0</th>\n",
       "      <td>-1.44</td>\n",
       "      <td>0.47</td>\n",
       "      <td>1.01</td>\n",
       "      <td>0</td>\n",
       "      <td>1.38</td>\n",
       "      <td>-0.85</td>\n",
       "      <td>False</td>\n",
       "      <td>True</td>\n",
       "      <td>False</td>\n",
       "      <td>True</td>\n",
       "      <td>...</td>\n",
       "      <td>False</td>\n",
       "      <td>False</td>\n",
       "      <td>True</td>\n",
       "      <td>False</td>\n",
       "      <td>True</td>\n",
       "      <td>False</td>\n",
       "      <td>False</td>\n",
       "      <td>False</td>\n",
       "      <td>True</td>\n",
       "      <td>0</td>\n",
       "    </tr>\n",
       "    <tr>\n",
       "      <th>1</th>\n",
       "      <td>-0.48</td>\n",
       "      <td>1.47</td>\n",
       "      <td>-1.54</td>\n",
       "      <td>0</td>\n",
       "      <td>0.75</td>\n",
       "      <td>0.29</td>\n",
       "      <td>True</td>\n",
       "      <td>False</td>\n",
       "      <td>False</td>\n",
       "      <td>False</td>\n",
       "      <td>...</td>\n",
       "      <td>False</td>\n",
       "      <td>False</td>\n",
       "      <td>True</td>\n",
       "      <td>False</td>\n",
       "      <td>True</td>\n",
       "      <td>False</td>\n",
       "      <td>False</td>\n",
       "      <td>True</td>\n",
       "      <td>False</td>\n",
       "      <td>1</td>\n",
       "    </tr>\n",
       "    <tr>\n",
       "      <th>2</th>\n",
       "      <td>-1.76</td>\n",
       "      <td>-0.08</td>\n",
       "      <td>0.90</td>\n",
       "      <td>0</td>\n",
       "      <td>-1.53</td>\n",
       "      <td>-0.85</td>\n",
       "      <td>False</td>\n",
       "      <td>True</td>\n",
       "      <td>False</td>\n",
       "      <td>True</td>\n",
       "      <td>...</td>\n",
       "      <td>False</td>\n",
       "      <td>False</td>\n",
       "      <td>False</td>\n",
       "      <td>True</td>\n",
       "      <td>True</td>\n",
       "      <td>False</td>\n",
       "      <td>False</td>\n",
       "      <td>False</td>\n",
       "      <td>True</td>\n",
       "      <td>0</td>\n",
       "    </tr>\n",
       "    <tr>\n",
       "      <th>3</th>\n",
       "      <td>-0.58</td>\n",
       "      <td>0.36</td>\n",
       "      <td>-0.61</td>\n",
       "      <td>0</td>\n",
       "      <td>-1.13</td>\n",
       "      <td>0.71</td>\n",
       "      <td>True</td>\n",
       "      <td>False</td>\n",
       "      <td>True</td>\n",
       "      <td>False</td>\n",
       "      <td>...</td>\n",
       "      <td>False</td>\n",
       "      <td>False</td>\n",
       "      <td>True</td>\n",
       "      <td>False</td>\n",
       "      <td>False</td>\n",
       "      <td>True</td>\n",
       "      <td>False</td>\n",
       "      <td>True</td>\n",
       "      <td>False</td>\n",
       "      <td>1</td>\n",
       "    </tr>\n",
       "    <tr>\n",
       "      <th>4</th>\n",
       "      <td>0.06</td>\n",
       "      <td>0.99</td>\n",
       "      <td>-1.11</td>\n",
       "      <td>0</td>\n",
       "      <td>-0.59</td>\n",
       "      <td>-0.85</td>\n",
       "      <td>False</td>\n",
       "      <td>True</td>\n",
       "      <td>False</td>\n",
       "      <td>False</td>\n",
       "      <td>...</td>\n",
       "      <td>False</td>\n",
       "      <td>False</td>\n",
       "      <td>True</td>\n",
       "      <td>False</td>\n",
       "      <td>True</td>\n",
       "      <td>False</td>\n",
       "      <td>False</td>\n",
       "      <td>False</td>\n",
       "      <td>True</td>\n",
       "      <td>0</td>\n",
       "    </tr>\n",
       "    <tr>\n",
       "      <th>...</th>\n",
       "      <td>...</td>\n",
       "      <td>...</td>\n",
       "      <td>...</td>\n",
       "      <td>...</td>\n",
       "      <td>...</td>\n",
       "      <td>...</td>\n",
       "      <td>...</td>\n",
       "      <td>...</td>\n",
       "      <td>...</td>\n",
       "      <td>...</td>\n",
       "      <td>...</td>\n",
       "      <td>...</td>\n",
       "      <td>...</td>\n",
       "      <td>...</td>\n",
       "      <td>...</td>\n",
       "      <td>...</td>\n",
       "      <td>...</td>\n",
       "      <td>...</td>\n",
       "      <td>...</td>\n",
       "      <td>...</td>\n",
       "      <td>...</td>\n",
       "    </tr>\n",
       "    <tr>\n",
       "      <th>913</th>\n",
       "      <td>-0.90</td>\n",
       "      <td>-1.34</td>\n",
       "      <td>0.53</td>\n",
       "      <td>0</td>\n",
       "      <td>-0.19</td>\n",
       "      <td>0.46</td>\n",
       "      <td>False</td>\n",
       "      <td>True</td>\n",
       "      <td>False</td>\n",
       "      <td>False</td>\n",
       "      <td>...</td>\n",
       "      <td>True</td>\n",
       "      <td>False</td>\n",
       "      <td>True</td>\n",
       "      <td>False</td>\n",
       "      <td>True</td>\n",
       "      <td>False</td>\n",
       "      <td>False</td>\n",
       "      <td>True</td>\n",
       "      <td>False</td>\n",
       "      <td>1</td>\n",
       "    </tr>\n",
       "    <tr>\n",
       "      <th>914</th>\n",
       "      <td>1.55</td>\n",
       "      <td>0.68</td>\n",
       "      <td>-1.16</td>\n",
       "      <td>1</td>\n",
       "      <td>0.16</td>\n",
       "      <td>1.92</td>\n",
       "      <td>False</td>\n",
       "      <td>True</td>\n",
       "      <td>True</td>\n",
       "      <td>False</td>\n",
       "      <td>...</td>\n",
       "      <td>False</td>\n",
       "      <td>False</td>\n",
       "      <td>True</td>\n",
       "      <td>False</td>\n",
       "      <td>True</td>\n",
       "      <td>False</td>\n",
       "      <td>False</td>\n",
       "      <td>True</td>\n",
       "      <td>False</td>\n",
       "      <td>1</td>\n",
       "    </tr>\n",
       "    <tr>\n",
       "      <th>915</th>\n",
       "      <td>0.38</td>\n",
       "      <td>-0.08</td>\n",
       "      <td>-3.24</td>\n",
       "      <td>0</td>\n",
       "      <td>-0.86</td>\n",
       "      <td>0.46</td>\n",
       "      <td>False</td>\n",
       "      <td>True</td>\n",
       "      <td>True</td>\n",
       "      <td>False</td>\n",
       "      <td>...</td>\n",
       "      <td>False</td>\n",
       "      <td>False</td>\n",
       "      <td>True</td>\n",
       "      <td>False</td>\n",
       "      <td>False</td>\n",
       "      <td>True</td>\n",
       "      <td>False</td>\n",
       "      <td>True</td>\n",
       "      <td>False</td>\n",
       "      <td>1</td>\n",
       "    </tr>\n",
       "    <tr>\n",
       "      <th>916</th>\n",
       "      <td>0.38</td>\n",
       "      <td>-0.08</td>\n",
       "      <td>-0.08</td>\n",
       "      <td>0</td>\n",
       "      <td>1.45</td>\n",
       "      <td>-0.85</td>\n",
       "      <td>True</td>\n",
       "      <td>False</td>\n",
       "      <td>False</td>\n",
       "      <td>True</td>\n",
       "      <td>...</td>\n",
       "      <td>False</td>\n",
       "      <td>True</td>\n",
       "      <td>False</td>\n",
       "      <td>False</td>\n",
       "      <td>True</td>\n",
       "      <td>False</td>\n",
       "      <td>False</td>\n",
       "      <td>True</td>\n",
       "      <td>False</td>\n",
       "      <td>1</td>\n",
       "    </tr>\n",
       "    <tr>\n",
       "      <th>917</th>\n",
       "      <td>-1.65</td>\n",
       "      <td>0.36</td>\n",
       "      <td>-1.69</td>\n",
       "      <td>0</td>\n",
       "      <td>1.41</td>\n",
       "      <td>-0.85</td>\n",
       "      <td>False</td>\n",
       "      <td>True</td>\n",
       "      <td>False</td>\n",
       "      <td>False</td>\n",
       "      <td>...</td>\n",
       "      <td>False</td>\n",
       "      <td>False</td>\n",
       "      <td>True</td>\n",
       "      <td>False</td>\n",
       "      <td>True</td>\n",
       "      <td>False</td>\n",
       "      <td>False</td>\n",
       "      <td>False</td>\n",
       "      <td>True</td>\n",
       "      <td>0</td>\n",
       "    </tr>\n",
       "  </tbody>\n",
       "</table>\n",
       "<p>901 rows × 21 columns</p>\n",
       "</div>"
      ],
      "text/plain": [
       "      Age  RestingBP  Cholesterol  FastingBS  MaxHR  Oldpeak  Sex_F  Sex_M  \\\n",
       "0   -1.44       0.47         1.01          0   1.38    -0.85  False   True   \n",
       "1   -0.48       1.47        -1.54          0   0.75     0.29   True  False   \n",
       "2   -1.76      -0.08         0.90          0  -1.53    -0.85  False   True   \n",
       "3   -0.58       0.36        -0.61          0  -1.13     0.71   True  False   \n",
       "4    0.06       0.99        -1.11          0  -0.59    -0.85  False   True   \n",
       "..    ...        ...          ...        ...    ...      ...    ...    ...   \n",
       "913 -0.90      -1.34         0.53          0  -0.19     0.46  False   True   \n",
       "914  1.55       0.68        -1.16          1   0.16     1.92  False   True   \n",
       "915  0.38      -0.08        -3.24          0  -0.86     0.46  False   True   \n",
       "916  0.38      -0.08        -0.08          0   1.45    -0.85   True  False   \n",
       "917 -1.65       0.36        -1.69          0   1.41    -0.85  False   True   \n",
       "\n",
       "     ChestPainType_ASY  ChestPainType_ATA  ...  ChestPainType_TA  \\\n",
       "0                False               True  ...             False   \n",
       "1                False              False  ...             False   \n",
       "2                False               True  ...             False   \n",
       "3                 True              False  ...             False   \n",
       "4                False              False  ...             False   \n",
       "..                 ...                ...  ...               ...   \n",
       "913              False              False  ...              True   \n",
       "914               True              False  ...             False   \n",
       "915               True              False  ...             False   \n",
       "916              False               True  ...             False   \n",
       "917              False              False  ...             False   \n",
       "\n",
       "     RestingECG_LVH  RestingECG_Normal  RestingECG_ST  ExerciseAngina_N  \\\n",
       "0             False               True          False              True   \n",
       "1             False               True          False              True   \n",
       "2             False              False           True              True   \n",
       "3             False               True          False             False   \n",
       "4             False               True          False              True   \n",
       "..              ...                ...            ...               ...   \n",
       "913           False               True          False              True   \n",
       "914           False               True          False              True   \n",
       "915           False               True          False             False   \n",
       "916            True              False          False              True   \n",
       "917           False               True          False              True   \n",
       "\n",
       "     ExerciseAngina_Y  ST_Slope_Down  ST_Slope_Flat  ST_Slope_Up  HeartDisease  \n",
       "0               False          False          False         True             0  \n",
       "1               False          False           True        False             1  \n",
       "2               False          False          False         True             0  \n",
       "3                True          False           True        False             1  \n",
       "4               False          False          False         True             0  \n",
       "..                ...            ...            ...          ...           ...  \n",
       "913             False          False           True        False             1  \n",
       "914             False          False           True        False             1  \n",
       "915              True          False           True        False             1  \n",
       "916             False          False           True        False             1  \n",
       "917             False          False          False         True             0  \n",
       "\n",
       "[901 rows x 21 columns]"
      ]
     },
     "execution_count": 395,
     "metadata": {},
     "output_type": "execute_result"
    }
   ],
   "source": [
    "\n",
    "from sklearn.preprocessing import StandardScaler\n",
    "\n",
    "sc = StandardScaler()\n",
    "\n",
    "df_nontree[[\"Age\", \"RestingBP\", \"Cholesterol\", \"MaxHR\", \"Oldpeak\"]] = sc.fit_transform(df_nontree[[\"Age\", \"RestingBP\", \"Cholesterol\", \"MaxHR\", \"Oldpeak\"]])\n",
    "df_nontree"
   ]
  },
  {
   "cell_type": "code",
   "execution_count": 396,
   "metadata": {},
   "outputs": [],
   "source": [
    "\n",
    "X = df_nontree.iloc[:, :-1].values\n",
    "y = df_nontree.iloc[:, -1].values\n",
    "from sklearn.model_selection import train_test_split\n",
    "X_train_8020, X_test_8020, y_train_8020, y_test_8020 = train_test_split(X, y, test_size = 0.2, random_state = 0)\n",
    "X_train_7030, X_test_7030, y_train_7030, y_test_7030 = train_test_split(X, y, test_size = 0.3, random_state = 0)\n",
    "X_train_6040, X_test_6040, y_train_6040, y_test_6040 = train_test_split(X, y, test_size = 0.4, random_state = 0)\n",
    "X_train_5050, X_test_5050, y_train_5050, y_test_5050 = train_test_split(X, y, test_size = 0.5, random_state = 0)\n",
    "\n",
    "\n",
    "   \n",
    "\n"
   ]
  },
  {
   "cell_type": "markdown",
   "metadata": {},
   "source": [
    "## 80-20"
   ]
  },
  {
   "cell_type": "code",
   "execution_count": 397,
   "metadata": {},
   "outputs": [
    {
     "name": "stdout",
     "output_type": "stream",
     "text": [
      "     0     1     2  3     4     5      6      7      8      9      10     11  \\\n",
      "0  0.69 -0.08  0.30  0  0.28  0.63  False   True   True  False  False  False   \n",
      "1  1.33 -1.20  0.46  0  0.12  0.71  False   True   True  False  False  False   \n",
      "2  0.80  3.15  0.11  1 -2.62 -0.85  False   True  False  False   True  False   \n",
      "3  0.91 -0.68  0.59  0 -1.49  0.94  False   True   True  False  False  False   \n",
      "4 -0.48  1.47 -1.54  0  0.75  0.29   True  False  False  False   True  False   \n",
      "\n",
      "      12     13     14     15     16     17     18     19  \n",
      "0  False   True  False  False   True  False  False   True  \n",
      "1  False   True  False   True  False  False  False   True  \n",
      "2  False  False   True   True  False  False   True  False  \n",
      "3  False   True  False  False   True  False   True  False  \n",
      "4  False   True  False   True  False  False   True  False  \n"
     ]
    }
   ],
   "source": [
    "subset_df = pd.DataFrame(X_train_8020)[:5]  \n",
    "print(subset_df)"
   ]
  },
  {
   "cell_type": "markdown",
   "metadata": {},
   "source": [
    "## KNN Classification"
   ]
  },
  {
   "cell_type": "code",
   "execution_count": 398,
   "metadata": {},
   "outputs": [],
   "source": [
    "from sklearn.neighbors import KNeighborsClassifier\n",
    "from sklearn.metrics import accuracy_score, precision_score, recall_score, f1_score, \\\n",
    "                            roc_auc_score, cohen_kappa_score, matthews_corrcoef, \\\n",
    "                             log_loss\n",
    "def knn_(x,y,x_test,y_test):\n",
    "    classifier = KNeighborsClassifier()\n",
    "    classifier.fit(x,y)\n",
    "    y_pred = classifier.predict(x_test)\n",
    "    accuracy = accuracy_score(y_test, y_pred)\n",
    "    precision = precision_score(y_test, y_pred)\n",
    "    recall = recall_score(y_test, y_pred)\n",
    "    f1 = f1_score(y_test, y_pred)\n",
    "    roc_auc = roc_auc_score(y_test, y_pred)\n",
    "    cohen_kappa = cohen_kappa_score(y_test, y_pred)\n",
    "    matthews_corr = matthews_corrcoef(y_test, y_pred)\n",
    "    logloss = log_loss(y_test, y_pred)\n",
    "\n",
    "    metrics_df_KNN = pd.DataFrame({\n",
    "        'Metric': ['Accuracy', 'Precision', 'Recall', 'F1-Score', 'ROC AUC', \n",
    "                'Cohen\\'s Kappa', 'Matthews Corr.', 'Log Loss'],\n",
    "        'Value': [accuracy, precision, recall, f1, roc_auc, \n",
    "                cohen_kappa, matthews_corr, logloss]\n",
    "    })\n",
    "\n",
    "    # Display metrics table\n",
    "    print(metrics_df_KNN)"
   ]
  },
  {
   "cell_type": "code",
   "execution_count": 399,
   "metadata": {},
   "outputs": [
    {
     "name": "stdout",
     "output_type": "stream",
     "text": [
      "           Metric  Value\n",
      "0        Accuracy   0.85\n",
      "1       Precision   0.86\n",
      "2          Recall   0.90\n",
      "3        F1-Score   0.88\n",
      "4         ROC AUC   0.84\n",
      "5   Cohen's Kappa   0.69\n",
      "6  Matthews Corr.   0.69\n",
      "7        Log Loss   5.38\n"
     ]
    }
   ],
   "source": [
    "knn_(X_train_8020,y_train_8020,X_test_8020,y_test_8020)"
   ]
  },
  {
   "cell_type": "code",
   "execution_count": 400,
   "metadata": {},
   "outputs": [
    {
     "name": "stdout",
     "output_type": "stream",
     "text": [
      "           Metric  Value\n",
      "0        Accuracy   0.86\n",
      "1       Precision   0.88\n",
      "2          Recall   0.88\n",
      "3        F1-Score   0.88\n",
      "4         ROC AUC   0.85\n",
      "5   Cohen's Kappa   0.70\n",
      "6  Matthews Corr.   0.70\n",
      "7        Log Loss   5.19\n"
     ]
    }
   ],
   "source": [
    "knn_(X_train_7030,y_train_7030,X_test_7030,y_test_7030)"
   ]
  },
  {
   "cell_type": "code",
   "execution_count": 401,
   "metadata": {},
   "outputs": [
    {
     "name": "stdout",
     "output_type": "stream",
     "text": [
      "           Metric  Value\n",
      "0        Accuracy   0.86\n",
      "1       Precision   0.88\n",
      "2          Recall   0.88\n",
      "3        F1-Score   0.88\n",
      "4         ROC AUC   0.85\n",
      "5   Cohen's Kappa   0.71\n",
      "6  Matthews Corr.   0.71\n",
      "7        Log Loss   5.19\n"
     ]
    }
   ],
   "source": [
    "knn_(X_train_6040,y_train_6040,X_test_6040,y_test_6040)"
   ]
  },
  {
   "cell_type": "code",
   "execution_count": 402,
   "metadata": {},
   "outputs": [
    {
     "name": "stdout",
     "output_type": "stream",
     "text": [
      "           Metric  Value\n",
      "0        Accuracy   0.84\n",
      "1       Precision   0.84\n",
      "2          Recall   0.88\n",
      "3        F1-Score   0.86\n",
      "4         ROC AUC   0.83\n",
      "5   Cohen's Kappa   0.67\n",
      "6  Matthews Corr.   0.67\n",
      "7        Log Loss   5.83\n"
     ]
    }
   ],
   "source": [
    "knn_(X_train_5050,y_train_5050,X_test_5050,y_test_5050)"
   ]
  },
  {
   "cell_type": "markdown",
   "metadata": {},
   "source": [
    "## SVC"
   ]
  },
  {
   "cell_type": "code",
   "execution_count": 403,
   "metadata": {},
   "outputs": [],
   "source": [
    "from sklearn.svm import SVC\n",
    "def svc_(x,y,x_test,y_test):\n",
    "    classifier1 = SVC(kernel = 'rbf', random_state = 0)\n",
    "    classifier1.fit(x,y)\n",
    "    y_pred1 = classifier1.predict(x_test)\n",
    "    accuracy = accuracy_score(y_test, y_pred1)\n",
    "    precision = precision_score(y_test, y_pred1)\n",
    "    recall = recall_score(y_test, y_pred1)\n",
    "    f1 = f1_score(y_test, y_pred1)\n",
    "    roc_auc = roc_auc_score(y_test, y_pred1)\n",
    "    cohen_kappa = cohen_kappa_score(y_test, y_pred1)\n",
    "    matthews_corr = matthews_corrcoef(y_test, y_pred1)\n",
    "    logloss = log_loss(y_test, y_pred1)\n",
    "\n",
    "    metrics_df_SVM = pd.DataFrame({\n",
    "        'Metric': ['Accuracy', 'Precision', 'Recall', 'F1-Score', 'ROC AUC', \n",
    "                'Cohen\\'s Kappa', 'Matthews Corr.', 'Log Loss'],\n",
    "        'Value': [accuracy, precision, recall, f1, roc_auc, \n",
    "                cohen_kappa, matthews_corr, logloss]\n",
    "    })\n",
    "\n",
    "    # Display metrics table\n",
    "    print(metrics_df_SVM)"
   ]
  },
  {
   "cell_type": "code",
   "execution_count": 404,
   "metadata": {},
   "outputs": [
    {
     "name": "stdout",
     "output_type": "stream",
     "text": [
      "           Metric  Value\n",
      "0        Accuracy   0.86\n",
      "1       Precision   0.85\n",
      "2          Recall   0.92\n",
      "3        F1-Score   0.88\n",
      "4         ROC AUC   0.84\n",
      "5   Cohen's Kappa   0.70\n",
      "6  Matthews Corr.   0.70\n",
      "7        Log Loss   5.18\n"
     ]
    }
   ],
   "source": [
    "svc_(X_train_8020,y_train_8020,X_test_8020,y_test_8020)"
   ]
  },
  {
   "cell_type": "code",
   "execution_count": 405,
   "metadata": {},
   "outputs": [
    {
     "name": "stdout",
     "output_type": "stream",
     "text": [
      "           Metric  Value\n",
      "0        Accuracy   0.87\n",
      "1       Precision   0.88\n",
      "2          Recall   0.90\n",
      "3        F1-Score   0.89\n",
      "4         ROC AUC   0.86\n",
      "5   Cohen's Kappa   0.72\n",
      "6  Matthews Corr.   0.72\n",
      "7        Log Loss   4.79\n"
     ]
    }
   ],
   "source": [
    "svc_(X_train_7030,y_train_7030,X_test_7030,y_test_7030)"
   ]
  },
  {
   "cell_type": "code",
   "execution_count": 406,
   "metadata": {},
   "outputs": [
    {
     "name": "stdout",
     "output_type": "stream",
     "text": [
      "           Metric  Value\n",
      "0        Accuracy   0.88\n",
      "1       Precision   0.88\n",
      "2          Recall   0.91\n",
      "3        F1-Score   0.90\n",
      "4         ROC AUC   0.87\n",
      "5   Cohen's Kappa   0.75\n",
      "6  Matthews Corr.   0.75\n",
      "7        Log Loss   4.39\n"
     ]
    }
   ],
   "source": [
    "svc_(X_train_6040,y_train_6040,X_test_6040,y_test_6040)"
   ]
  },
  {
   "cell_type": "code",
   "execution_count": 407,
   "metadata": {},
   "outputs": [
    {
     "name": "stdout",
     "output_type": "stream",
     "text": [
      "           Metric  Value\n",
      "0        Accuracy   0.88\n",
      "1       Precision   0.87\n",
      "2          Recall   0.92\n",
      "3        F1-Score   0.90\n",
      "4         ROC AUC   0.87\n",
      "5   Cohen's Kappa   0.76\n",
      "6  Matthews Corr.   0.76\n",
      "7        Log Loss   4.32\n"
     ]
    }
   ],
   "source": [
    "svc_(X_train_5050,y_train_5050,X_test_5050,y_test_5050)"
   ]
  },
  {
   "cell_type": "markdown",
   "metadata": {},
   "source": [
    "## Naive Bayes"
   ]
  },
  {
   "cell_type": "code",
   "execution_count": 408,
   "metadata": {},
   "outputs": [],
   "source": [
    "from sklearn.naive_bayes import GaussianNB\n",
    "def gb_(x,y,x_test,y_test):\n",
    "    classifier2 = GaussianNB() \n",
    "    classifier2.fit(x,y)\n",
    "    y_pred2 = classifier2.predict(x_test)\n",
    "    accuracy = accuracy_score(y_test, y_pred2)\n",
    "    precision = precision_score(y_test, y_pred2)\n",
    "    recall = recall_score(y_test, y_pred2)\n",
    "    f1 = f1_score(y_test, y_pred2)\n",
    "    roc_auc = roc_auc_score(y_test, y_pred2)\n",
    "    cohen_kappa = cohen_kappa_score(y_test, y_pred2)\n",
    "    matthews_corr = matthews_corrcoef(y_test, y_pred2)\n",
    "    logloss = log_loss(y_test, y_pred2)\n",
    "\n",
    "    metrics_df_GB = pd.DataFrame({\n",
    "        'Metric': ['Accuracy', 'Precision', 'Recall', 'F1-Score', 'ROC AUC', \n",
    "                'Cohen\\'s Kappa', 'Matthews Corr.', 'Log Loss'],\n",
    "        'Value': [accuracy, precision, recall, f1, roc_auc, \n",
    "                cohen_kappa, matthews_corr, logloss]\n",
    "    })\n",
    "\n",
    "    # Display metrics table\n",
    "    print(metrics_df_GB)"
   ]
  },
  {
   "cell_type": "code",
   "execution_count": 409,
   "metadata": {},
   "outputs": [
    {
     "name": "stdout",
     "output_type": "stream",
     "text": [
      "           Metric  Value\n",
      "0        Accuracy   0.83\n",
      "1       Precision   0.87\n",
      "2          Recall   0.85\n",
      "3        F1-Score   0.86\n",
      "4         ROC AUC   0.83\n",
      "5   Cohen's Kappa   0.66\n",
      "6  Matthews Corr.   0.66\n",
      "7        Log Loss   5.97\n"
     ]
    }
   ],
   "source": [
    "gb_(X_train_8020,y_train_8020,X_test_8020,y_test_8020)"
   ]
  },
  {
   "cell_type": "code",
   "execution_count": 410,
   "metadata": {},
   "outputs": [
    {
     "name": "stdout",
     "output_type": "stream",
     "text": [
      "           Metric  Value\n",
      "0        Accuracy   0.85\n",
      "1       Precision   0.89\n",
      "2          Recall   0.85\n",
      "3        F1-Score   0.87\n",
      "4         ROC AUC   0.84\n",
      "5   Cohen's Kappa   0.68\n",
      "6  Matthews Corr.   0.68\n",
      "7        Log Loss   5.59\n"
     ]
    }
   ],
   "source": [
    "gb_(X_train_7030,y_train_7030,X_test_7030,y_test_7030)"
   ]
  },
  {
   "cell_type": "code",
   "execution_count": 411,
   "metadata": {},
   "outputs": [
    {
     "name": "stdout",
     "output_type": "stream",
     "text": [
      "           Metric  Value\n",
      "0        Accuracy   0.84\n",
      "1       Precision   0.87\n",
      "2          Recall   0.85\n",
      "3        F1-Score   0.86\n",
      "4         ROC AUC   0.84\n",
      "5   Cohen's Kappa   0.68\n",
      "6  Matthews Corr.   0.68\n",
      "7        Log Loss   5.69\n"
     ]
    }
   ],
   "source": [
    "gb_(X_train_6040,y_train_6040,X_test_6040,y_test_6040)"
   ]
  },
  {
   "cell_type": "code",
   "execution_count": 412,
   "metadata": {},
   "outputs": [
    {
     "name": "stdout",
     "output_type": "stream",
     "text": [
      "           Metric  Value\n",
      "0        Accuracy   0.85\n",
      "1       Precision   0.86\n",
      "2          Recall   0.87\n",
      "3        F1-Score   0.87\n",
      "4         ROC AUC   0.85\n",
      "5   Cohen's Kappa   0.70\n",
      "6  Matthews Corr.   0.70\n",
      "7        Log Loss   5.35\n"
     ]
    }
   ],
   "source": [
    "gb_(X_train_5050,y_train_5050,X_test_5050,y_test_5050)"
   ]
  },
  {
   "cell_type": "markdown",
   "metadata": {},
   "source": [
    "## Tree Based"
   ]
  },
  {
   "cell_type": "code",
   "execution_count": 413,
   "metadata": {},
   "outputs": [
    {
     "data": {
      "text/html": [
       "<div>\n",
       "<style scoped>\n",
       "    .dataframe tbody tr th:only-of-type {\n",
       "        vertical-align: middle;\n",
       "    }\n",
       "\n",
       "    .dataframe tbody tr th {\n",
       "        vertical-align: top;\n",
       "    }\n",
       "\n",
       "    .dataframe thead th {\n",
       "        text-align: right;\n",
       "    }\n",
       "</style>\n",
       "<table border=\"1\" class=\"dataframe\">\n",
       "  <thead>\n",
       "    <tr style=\"text-align: right;\">\n",
       "      <th></th>\n",
       "      <th>Age</th>\n",
       "      <th>Sex</th>\n",
       "      <th>ChestPainType</th>\n",
       "      <th>RestingBP</th>\n",
       "      <th>Cholesterol</th>\n",
       "      <th>FastingBS</th>\n",
       "      <th>RestingECG</th>\n",
       "      <th>MaxHR</th>\n",
       "      <th>ExerciseAngina</th>\n",
       "      <th>Oldpeak</th>\n",
       "      <th>ST_Slope</th>\n",
       "      <th>HeartDisease</th>\n",
       "    </tr>\n",
       "  </thead>\n",
       "  <tbody>\n",
       "    <tr>\n",
       "      <th>0</th>\n",
       "      <td>-1.44</td>\n",
       "      <td>1</td>\n",
       "      <td>1</td>\n",
       "      <td>0.59</td>\n",
       "      <td>1.11</td>\n",
       "      <td>0</td>\n",
       "      <td>1</td>\n",
       "      <td>1.40</td>\n",
       "      <td>0</td>\n",
       "      <td>-0.87</td>\n",
       "      <td>2</td>\n",
       "      <td>0</td>\n",
       "    </tr>\n",
       "    <tr>\n",
       "      <th>1</th>\n",
       "      <td>-0.48</td>\n",
       "      <td>0</td>\n",
       "      <td>2</td>\n",
       "      <td>1.57</td>\n",
       "      <td>-1.46</td>\n",
       "      <td>0</td>\n",
       "      <td>1</td>\n",
       "      <td>0.76</td>\n",
       "      <td>0</td>\n",
       "      <td>0.12</td>\n",
       "      <td>1</td>\n",
       "      <td>1</td>\n",
       "    </tr>\n",
       "    <tr>\n",
       "      <th>2</th>\n",
       "      <td>-1.76</td>\n",
       "      <td>1</td>\n",
       "      <td>1</td>\n",
       "      <td>-0.18</td>\n",
       "      <td>0.97</td>\n",
       "      <td>0</td>\n",
       "      <td>2</td>\n",
       "      <td>-1.53</td>\n",
       "      <td>0</td>\n",
       "      <td>-0.87</td>\n",
       "      <td>2</td>\n",
       "      <td>0</td>\n",
       "    </tr>\n",
       "    <tr>\n",
       "      <th>3</th>\n",
       "      <td>-0.58</td>\n",
       "      <td>0</td>\n",
       "      <td>0</td>\n",
       "      <td>0.45</td>\n",
       "      <td>-0.70</td>\n",
       "      <td>0</td>\n",
       "      <td>1</td>\n",
       "      <td>-1.17</td>\n",
       "      <td>1</td>\n",
       "      <td>0.62</td>\n",
       "      <td>1</td>\n",
       "      <td>1</td>\n",
       "    </tr>\n",
       "    <tr>\n",
       "      <th>4</th>\n",
       "      <td>0.06</td>\n",
       "      <td>1</td>\n",
       "      <td>2</td>\n",
       "      <td>1.15</td>\n",
       "      <td>-1.15</td>\n",
       "      <td>0</td>\n",
       "      <td>1</td>\n",
       "      <td>-0.60</td>\n",
       "      <td>0</td>\n",
       "      <td>-0.87</td>\n",
       "      <td>2</td>\n",
       "      <td>0</td>\n",
       "    </tr>\n",
       "  </tbody>\n",
       "</table>\n",
       "</div>"
      ],
      "text/plain": [
       "    Age  Sex  ChestPainType  RestingBP  Cholesterol  FastingBS  RestingECG  \\\n",
       "0 -1.44    1              1       0.59         1.11          0           1   \n",
       "1 -0.48    0              2       1.57        -1.46          0           1   \n",
       "2 -1.76    1              1      -0.18         0.97          0           2   \n",
       "3 -0.58    0              0       0.45        -0.70          0           1   \n",
       "4  0.06    1              2       1.15        -1.15          0           1   \n",
       "\n",
       "   MaxHR  ExerciseAngina  Oldpeak  ST_Slope  HeartDisease  \n",
       "0   1.40               0    -0.87         2             0  \n",
       "1   0.76               0     0.12         1             1  \n",
       "2  -1.53               0    -0.87         2             0  \n",
       "3  -1.17               1     0.62         1             1  \n",
       "4  -0.60               0    -0.87         2             0  "
      ]
     },
     "execution_count": 413,
     "metadata": {},
     "output_type": "execute_result"
    }
   ],
   "source": [
    "from sklearn.preprocessing import StandardScaler\n",
    "\n",
    "sc = StandardScaler()\n",
    "\n",
    "df_tree[[\"Age\", \"RestingBP\", \"Cholesterol\", \"MaxHR\", \"Oldpeak\"]] = sc.fit_transform(df_tree[[\"Age\", \"RestingBP\", \"Cholesterol\", \"MaxHR\", \"Oldpeak\"]])\n",
    "df_tree.head()"
   ]
  },
  {
   "cell_type": "code",
   "execution_count": 414,
   "metadata": {},
   "outputs": [],
   "source": [
    "X = df_tree.iloc[:, :-1].values\n",
    "y = df_tree.iloc[:, -1].values\n",
    "\n",
    "\n",
    "from sklearn.model_selection import train_test_split\n",
    "X_train_8020, X_test_8020, y_train_8020, y_test_8020 = train_test_split(X, y, test_size = 0.2, random_state = 0)\n",
    "X_train_7030, X_test_7030, y_train_7030, y_test_7030 = train_test_split(X, y, test_size = 0.3, random_state = 0)\n",
    "X_train_6040, X_test_6040, y_train_6040, y_test_6040 = train_test_split(X, y, test_size = 0.4, random_state = 0)\n",
    "X_train_5050, X_test_5050, y_train_5050, y_test_5050 = train_test_split(X, y, test_size = 0.5, random_state = 0)"
   ]
  },
  {
   "cell_type": "code",
   "execution_count": 415,
   "metadata": {},
   "outputs": [
    {
     "name": "stdout",
     "output_type": "stream",
     "text": [
      "     0    1    2     3     4    5    6     7    8     9    10\n",
      "0  0.69 1.00 0.00 -0.18  0.26 0.00 1.00  0.28 1.00  0.52 2.00\n",
      "1  1.33 1.00 0.00 -1.23  0.45 0.00 1.00  0.12 0.00  0.62 2.00\n",
      "2  0.80 1.00 2.00  2.34  0.04 1.00 2.00 -2.37 0.00 -0.87 1.00\n",
      "3  0.91 1.00 0.00 -0.81  0.59 0.00 1.00 -1.49 1.00  0.91 1.00\n",
      "4 -0.48 0.00 2.00  1.57 -1.46 0.00 1.00  0.76 0.00  0.12 1.00\n"
     ]
    }
   ],
   "source": [
    "subset_df = pd.DataFrame(X_train_8020)[:5]  \n",
    "print(subset_df)"
   ]
  },
  {
   "cell_type": "markdown",
   "metadata": {},
   "source": [
    "##  Decision Tree Classification"
   ]
  },
  {
   "cell_type": "code",
   "execution_count": 416,
   "metadata": {},
   "outputs": [],
   "source": [
    "from sklearn.tree import DecisionTreeClassifier\n",
    "def dtc_(x,y,x_test,y_test):\n",
    "    classifier4 = DecisionTreeClassifier(criterion = 'entropy' , random_state = 0)\n",
    "    classifier4.fit(x , y)\n",
    "    y_pred4 = classifier4.predict(x_test)\n",
    "    accuracy = accuracy_score(y_test, y_pred4)\n",
    "    precision = precision_score(y_test, y_pred4)\n",
    "    recall = recall_score(y_test, y_pred4)\n",
    "    f1 = f1_score(y_test, y_pred4)\n",
    "    roc_auc = roc_auc_score(y_test, y_pred4)\n",
    "    cohen_kappa = cohen_kappa_score(y_test, y_pred4)\n",
    "    matthews_corr = matthews_corrcoef(y_test, y_pred4)\n",
    "    logloss = log_loss(y_test, y_pred4)\n",
    "\n",
    "    metrics_df_DCT = pd.DataFrame({\n",
    "        'Metric': ['Accuracy', 'Precision', 'Recall', 'F1-Score', 'ROC AUC', \n",
    "                'Cohen\\'s Kappa', 'Matthews Corr.', 'Log Loss'],\n",
    "        'Value': [accuracy, precision, recall, f1, roc_auc, \n",
    "                cohen_kappa, matthews_corr, logloss]\n",
    "    })\n",
    "\n",
    "    # Display metrics table\n",
    "    print(metrics_df_DCT)"
   ]
  },
  {
   "cell_type": "code",
   "execution_count": 417,
   "metadata": {},
   "outputs": [
    {
     "name": "stdout",
     "output_type": "stream",
     "text": [
      "           Metric  Value\n",
      "0        Accuracy   0.76\n",
      "1       Precision   0.79\n",
      "2          Recall   0.80\n",
      "3        F1-Score   0.79\n",
      "4         ROC AUC   0.75\n",
      "5   Cohen's Kappa   0.50\n",
      "6  Matthews Corr.   0.50\n",
      "7        Log Loss   8.76\n"
     ]
    }
   ],
   "source": [
    "dtc_(X_train_8020,y_train_8020,X_test_8020,y_test_8020)"
   ]
  },
  {
   "cell_type": "code",
   "execution_count": 418,
   "metadata": {},
   "outputs": [
    {
     "name": "stdout",
     "output_type": "stream",
     "text": [
      "           Metric  Value\n",
      "0        Accuracy   0.83\n",
      "1       Precision   0.89\n",
      "2          Recall   0.81\n",
      "3        F1-Score   0.85\n",
      "4         ROC AUC   0.83\n",
      "5   Cohen's Kappa   0.65\n",
      "6  Matthews Corr.   0.65\n",
      "7        Log Loss   6.25\n"
     ]
    }
   ],
   "source": [
    "dtc_(X_train_7030,y_train_7030,X_test_7030,y_test_7030)"
   ]
  },
  {
   "cell_type": "code",
   "execution_count": 419,
   "metadata": {},
   "outputs": [
    {
     "name": "stdout",
     "output_type": "stream",
     "text": [
      "           Metric  Value\n",
      "0        Accuracy   0.79\n",
      "1       Precision   0.88\n",
      "2          Recall   0.75\n",
      "3        F1-Score   0.81\n",
      "4         ROC AUC   0.80\n",
      "5   Cohen's Kappa   0.59\n",
      "6  Matthews Corr.   0.59\n",
      "7        Log Loss   7.49\n"
     ]
    }
   ],
   "source": [
    "dtc_(X_train_6040,y_train_6040,X_test_6040,y_test_6040)"
   ]
  },
  {
   "cell_type": "code",
   "execution_count": 420,
   "metadata": {},
   "outputs": [
    {
     "name": "stdout",
     "output_type": "stream",
     "text": [
      "           Metric  Value\n",
      "0        Accuracy   0.81\n",
      "1       Precision   0.84\n",
      "2          Recall   0.82\n",
      "3        F1-Score   0.83\n",
      "4         ROC AUC   0.81\n",
      "5   Cohen's Kappa   0.62\n",
      "6  Matthews Corr.   0.62\n",
      "7        Log Loss   6.71\n"
     ]
    }
   ],
   "source": [
    "dtc_(X_train_5050,y_train_5050,X_test_5050,y_test_5050)"
   ]
  },
  {
   "cell_type": "markdown",
   "metadata": {},
   "source": [
    "## Random Forest"
   ]
  },
  {
   "cell_type": "code",
   "execution_count": 421,
   "metadata": {},
   "outputs": [],
   "source": [
    "from sklearn.ensemble import RandomForestClassifier\n",
    "def rfc_(x,y,x_test,y_test):\n",
    "    classifier5 = RandomForestClassifier(n_estimators = 10, criterion = 'entropy', random_state = 0)\n",
    "    classifier5.fit(x, y)\n",
    "    y_pred5 = classifier5.predict(x_test)\n",
    "    accuracy = accuracy_score(y_test, y_pred5)\n",
    "    precision = precision_score(y_test, y_pred5)\n",
    "    recall = recall_score(y_test, y_pred5)\n",
    "    f1 = f1_score(y_test, y_pred5)\n",
    "    roc_auc = roc_auc_score(y_test, y_pred5)\n",
    "    cohen_kappa = cohen_kappa_score(y_test, y_pred5)\n",
    "    matthews_corr = matthews_corrcoef(y_test, y_pred5)\n",
    "    logloss = log_loss(y_test, y_pred5)\n",
    "\n",
    "    metrics_df_RF = pd.DataFrame({\n",
    "        'Metric': ['Accuracy', 'Precision', 'Recall', 'F1-Score', 'ROC AUC', \n",
    "                'Cohen\\'s Kappa', 'Matthews Corr.', 'Log Loss'],\n",
    "        'Value': [accuracy, precision, recall, f1, roc_auc, \n",
    "                cohen_kappa, matthews_corr, logloss]\n",
    "    })\n",
    "\n",
    "   \n",
    "    print(metrics_df_RF)"
   ]
  },
  {
   "cell_type": "code",
   "execution_count": 422,
   "metadata": {},
   "outputs": [
    {
     "name": "stdout",
     "output_type": "stream",
     "text": [
      "           Metric  Value\n",
      "0        Accuracy   0.86\n",
      "1       Precision   0.89\n",
      "2          Recall   0.86\n",
      "3        F1-Score   0.88\n",
      "4         ROC AUC   0.86\n",
      "5   Cohen's Kappa   0.71\n",
      "6  Matthews Corr.   0.71\n",
      "7        Log Loss   5.18\n"
     ]
    }
   ],
   "source": [
    "rfc_(X_train_8020,y_train_8020,X_test_8020,y_test_8020)"
   ]
  },
  {
   "cell_type": "code",
   "execution_count": 423,
   "metadata": {},
   "outputs": [
    {
     "name": "stdout",
     "output_type": "stream",
     "text": [
      "           Metric  Value\n",
      "0        Accuracy   0.85\n",
      "1       Precision   0.91\n",
      "2          Recall   0.83\n",
      "3        F1-Score   0.87\n",
      "4         ROC AUC   0.85\n",
      "5   Cohen's Kappa   0.69\n",
      "6  Matthews Corr.   0.70\n",
      "7        Log Loss   5.45\n"
     ]
    }
   ],
   "source": [
    "rfc_(X_train_7030,y_train_7030,X_test_7030,y_test_7030)"
   ]
  },
  {
   "cell_type": "code",
   "execution_count": 424,
   "metadata": {},
   "outputs": [
    {
     "name": "stdout",
     "output_type": "stream",
     "text": [
      "           Metric  Value\n",
      "0        Accuracy   0.84\n",
      "1       Precision   0.88\n",
      "2          Recall   0.84\n",
      "3        F1-Score   0.86\n",
      "4         ROC AUC   0.85\n",
      "5   Cohen's Kappa   0.69\n",
      "6  Matthews Corr.   0.69\n",
      "7        Log Loss   5.59\n"
     ]
    }
   ],
   "source": [
    "rfc_(X_train_6040,y_train_6040,X_test_6040,y_test_6040)"
   ]
  },
  {
   "cell_type": "code",
   "execution_count": 425,
   "metadata": {},
   "outputs": [
    {
     "name": "stdout",
     "output_type": "stream",
     "text": [
      "           Metric  Value\n",
      "0        Accuracy   0.86\n",
      "1       Precision   0.87\n",
      "2          Recall   0.88\n",
      "3        F1-Score   0.88\n",
      "4         ROC AUC   0.86\n",
      "5   Cohen's Kappa   0.72\n",
      "6  Matthews Corr.   0.72\n",
      "7        Log Loss   5.03\n"
     ]
    }
   ],
   "source": [
    "rfc_(X_train_5050,y_train_5050,X_test_5050,y_test_5050)"
   ]
  },
  {
   "cell_type": "markdown",
   "metadata": {},
   "source": [
    "## Gradient Boosting"
   ]
  },
  {
   "cell_type": "code",
   "execution_count": 426,
   "metadata": {},
   "outputs": [],
   "source": [
    "from sklearn.ensemble import GradientBoostingClassifier\n",
    "def gbc_(x,y,x_test,y_test):\n",
    "    classifier6 = GradientBoostingClassifier(n_estimators=100, random_state=42)\n",
    "    classifier6.fit(x, y)\n",
    "    y_pred6 = classifier6.predict(x_test)\n",
    "    accuracy = accuracy_score(y_test, y_pred6)\n",
    "    precision = precision_score(y_test, y_pred6)\n",
    "    recall = recall_score(y_test, y_pred6)\n",
    "    f1 = f1_score(y_test, y_pred6)\n",
    "    roc_auc = roc_auc_score(y_test, y_pred6)\n",
    "    cohen_kappa = cohen_kappa_score(y_test, y_pred6)\n",
    "    matthews_corr = matthews_corrcoef(y_test, y_pred6)\n",
    "    logloss = log_loss(y_test, y_pred6)\n",
    "\n",
    "    metrics_df_GB = pd.DataFrame({\n",
    "        'Metric': ['Accuracy', 'Precision', 'Recall', 'F1-Score', 'ROC AUC', \n",
    "                'Cohen\\'s Kappa', 'Matthews Corr.', 'Log Loss'],\n",
    "        'Value': [accuracy, precision, recall, f1, roc_auc, \n",
    "                cohen_kappa, matthews_corr, logloss]\n",
    "    })\n",
    "\n",
    "    # Display metrics table\n",
    "    print(metrics_df_GB)"
   ]
  },
  {
   "cell_type": "code",
   "execution_count": 427,
   "metadata": {},
   "outputs": [
    {
     "name": "stdout",
     "output_type": "stream",
     "text": [
      "           Metric  Value\n",
      "0        Accuracy   0.86\n",
      "1       Precision   0.86\n",
      "2          Recall   0.91\n",
      "3        F1-Score   0.88\n",
      "4         ROC AUC   0.85\n",
      "5   Cohen's Kappa   0.71\n",
      "6  Matthews Corr.   0.71\n",
      "7        Log Loss   4.98\n"
     ]
    }
   ],
   "source": [
    "gbc_(X_train_8020,y_train_8020,X_test_8020,y_test_8020)"
   ]
  },
  {
   "cell_type": "code",
   "execution_count": 428,
   "metadata": {},
   "outputs": [
    {
     "name": "stdout",
     "output_type": "stream",
     "text": [
      "           Metric  Value\n",
      "0        Accuracy   0.86\n",
      "1       Precision   0.88\n",
      "2          Recall   0.88\n",
      "3        F1-Score   0.88\n",
      "4         ROC AUC   0.85\n",
      "5   Cohen's Kappa   0.71\n",
      "6  Matthews Corr.   0.71\n",
      "7        Log Loss   5.05\n"
     ]
    }
   ],
   "source": [
    "gbc_(X_train_7030,y_train_7030,X_test_7030,y_test_7030)"
   ]
  },
  {
   "cell_type": "code",
   "execution_count": 429,
   "metadata": {},
   "outputs": [
    {
     "name": "stdout",
     "output_type": "stream",
     "text": [
      "           Metric  Value\n",
      "0        Accuracy   0.86\n",
      "1       Precision   0.89\n",
      "2          Recall   0.87\n",
      "3        F1-Score   0.88\n",
      "4         ROC AUC   0.86\n",
      "5   Cohen's Kappa   0.72\n",
      "6  Matthews Corr.   0.72\n",
      "7        Log Loss   4.89\n"
     ]
    }
   ],
   "source": [
    "gbc_(X_train_6040,y_train_6040,X_test_6040,y_test_6040)"
   ]
  },
  {
   "cell_type": "code",
   "execution_count": 430,
   "metadata": {},
   "outputs": [
    {
     "name": "stdout",
     "output_type": "stream",
     "text": [
      "           Metric  Value\n",
      "0        Accuracy   0.87\n",
      "1       Precision   0.88\n",
      "2          Recall   0.89\n",
      "3        F1-Score   0.88\n",
      "4         ROC AUC   0.87\n",
      "5   Cohen's Kappa   0.74\n",
      "6  Matthews Corr.   0.74\n",
      "7        Log Loss   4.64\n"
     ]
    }
   ],
   "source": [
    "gbc_(X_train_5050,y_train_5050,X_test_5050,y_test_5050)"
   ]
  }
 ],
 "metadata": {
  "kernelspec": {
   "display_name": "Python 3",
   "language": "python",
   "name": "python3"
  },
  "language_info": {
   "codemirror_mode": {
    "name": "ipython",
    "version": 3
   },
   "file_extension": ".py",
   "mimetype": "text/x-python",
   "name": "python",
   "nbconvert_exporter": "python",
   "pygments_lexer": "ipython3",
   "version": "3.11.4"
  },
  "orig_nbformat": 4
 },
 "nbformat": 4,
 "nbformat_minor": 2
}
